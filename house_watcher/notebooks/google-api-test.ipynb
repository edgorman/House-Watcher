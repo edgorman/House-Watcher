{
 "cells": [
  {
   "cell_type": "markdown",
   "id": "eecfdcdb",
   "metadata": {},
   "source": [
    "# Google API Tests"
   ]
  },
  {
   "cell_type": "code",
   "execution_count": 1,
   "id": "afda1c71",
   "metadata": {},
   "outputs": [],
   "source": [
    "import sys"
   ]
  },
  {
   "cell_type": "code",
   "execution_count": 2,
   "id": "1d4f037c",
   "metadata": {
    "scrolled": true
   },
   "outputs": [],
   "source": [
    "sys.path.append('../')\n",
    "from google_api.api import API"
   ]
  },
  {
   "cell_type": "code",
   "execution_count": 3,
   "id": "fbfe8f0c",
   "metadata": {},
   "outputs": [],
   "source": [
    "google_api = API(key_path=\"../google_api/key.txt\")"
   ]
  },
  {
   "cell_type": "code",
   "execution_count": 4,
   "id": "a7fde42c",
   "metadata": {},
   "outputs": [],
   "source": [
    "response = google_api.find_place_from_text(\"Museum of Contemporary Art Australia\")"
   ]
  },
  {
   "cell_type": "code",
   "execution_count": 6,
   "id": "a2d02d92",
   "metadata": {
    "scrolled": true
   },
   "outputs": [
    {
     "data": {
      "text/plain": [
       "{'candidates': [{'place_id': 'ChIJ68aBlEKuEmsRHUA9oME5Zh0'}], 'status': 'OK'}"
      ]
     },
     "execution_count": 6,
     "metadata": {},
     "output_type": "execute_result"
    }
   ],
   "source": [
    "response"
   ]
  }
 ],
 "metadata": {
  "kernelspec": {
   "display_name": "Python 3",
   "language": "python",
   "name": "python3"
  },
  "language_info": {
   "codemirror_mode": {
    "name": "ipython",
    "version": 3
   },
   "file_extension": ".py",
   "mimetype": "text/x-python",
   "name": "python",
   "nbconvert_exporter": "python",
   "pygments_lexer": "ipython3",
   "version": "3.8.5"
  }
 },
 "nbformat": 4,
 "nbformat_minor": 5
}
