{
 "cells": [
  {
   "cell_type": "markdown",
   "id": "eecfdcdb",
   "metadata": {},
   "source": [
    "# Google API Tests"
   ]
  },
  {
   "cell_type": "code",
   "execution_count": 149,
   "id": "afda1c71",
   "metadata": {},
   "outputs": [],
   "source": [
    "import sys"
   ]
  },
  {
   "cell_type": "code",
   "execution_count": 150,
   "id": "dec66b50",
   "metadata": {},
   "outputs": [],
   "source": [
    "import requests\n",
    "import json"
   ]
  },
  {
   "cell_type": "code",
   "execution_count": 164,
   "id": "9efb0618",
   "metadata": {},
   "outputs": [
    {
     "name": "stdout",
     "output_type": "stream",
     "text": [
      "b'{\\n  \"id\" : \"str:folder:root\",\\n  \"label\" : \"Stat-Xplore\",\\n  \"location\" : \"https://stat-xplore.dwp.gov.uk/webapi/rest/v1/schema/str:folder:root\",\\n  \"type\" : \"FOLDER\",\\n  \"children\" : [ {\\n    \"id\" : \"str:folder:facc\",\\n    \"label\" : \"Alternative Claimant Count\",\\n    \"location\" : \"https://stat-xplore.dwp.gov.uk/webapi/rest/v1/schema/str:folder:facc\",\\n    \"type\" : \"FOLDER\"\\n  }, {\\n    \"id\" : \"str:folder:faa\",\\n    \"label\" : \"Attendance Allowance\",\\n    \"location\" : \"https://stat-xplore.dwp.gov.uk/webapi/rest/v1/schema/str:folder:faa\",\\n    \"type\" : \"FOLDER\"\\n  }, {\\n    \"id\" : \"str:folder:fbc\",\\n    \"label\" : \"Benefit Cap\",\\n    \"location\" : \"https://stat-xplore.dwp.gov.uk/webapi/rest/v1/schema/str:folder:fbc\",\\n    \"type\" : \"FOLDER\"\\n  }, {\\n    \"id\" : \"str:folder:fbencom\",\\n    \"label\" : \"Benefit Combinations\",\\n    \"location\" : \"https://stat-xplore.dwp.gov.uk/webapi/rest/v1/schema/str:folder:fbencom\",\\n    \"type\" : \"FOLDER\"\\n  }, {\\n    \"id\" : \"str:folder:fbb\",\\n    \"label\" : \"Bereavement Benefits\",\\n    \"location\" : \"https://stat-xplore.dwp.gov.uk/webapi/rest/v1/schema/str:folder:fbb\",\\n    \"type\" : \"FOLDER\"\\n  }, {\\n    \"id\" : \"str:folder:fbsp\",\\n    \"label\" : \"Bereavement Support Payment\",\\n    \"location\" : \"https://stat-xplore.dwp.gov.uk/webapi/rest/v1/schema/str:folder:fbsp\",\\n    \"type\" : \"FOLDER\"\\n  }, {\\n    \"id\" : \"str:folder:fca\",\\n    \"label\" : \"Carers Allowance\",\\n    \"location\" : \"https://stat-xplore.dwp.gov.uk/webapi/rest/v1/schema/str:folder:fca\",\\n    \"type\" : \"FOLDER\"\\n  }, {\\n    \"id\" : \"str:folder:fcms\",\\n    \"label\" : \"Child Maintenance Service\",\\n    \"location\" : \"https://stat-xplore.dwp.gov.uk/webapi/rest/v1/schema/str:folder:fcms\",\\n    \"type\" : \"FOLDER\"\\n  }, {\\n    \"id\" : \"str:folder:fcilif\",\\n    \"label\" : \"Children in Low Income Families\",\\n    \"location\" : \"https://stat-xplore.dwp.gov.uk/webapi/rest/v1/schema/str:folder:fcilif\",\\n    \"type\" : \"FOLDER\"\\n  }, {\\n    \"id\" : \"str:folder:fdla\",\\n    \"label\" : \"Disability Living Allowance\",\\n    \"location\" : \"https://stat-xplore.dwp.gov.uk/webapi/rest/v1/schema/str:folder:fdla\",\\n    \"type\" : \"FOLDER\"\\n  }, {\\n    \"id\" : \"str:folder:fesa\",\\n    \"label\" : \"Employment and Support Allowance\",\\n    \"location\" : \"https://stat-xplore.dwp.gov.uk/webapi/rest/v1/schema/str:folder:fesa\",\\n    \"type\" : \"FOLDER\"\\n  }, {\\n    \"id\" : \"str:folder:fesawca\",\\n    \"label\" : \"ESA Work Capability Assessments\",\\n    \"location\" : \"https://stat-xplore.dwp.gov.uk/webapi/rest/v1/schema/str:folder:fesawca\",\\n    \"type\" : \"FOLDER\"\\n  }, {\\n    \"id\" : \"str:folder:ffema\",\\n    \"label\" : \"Fraud and Error in the Benefit System\",\\n    \"location\" : \"https://stat-xplore.dwp.gov.uk/webapi/rest/v1/schema/str:folder:ffema\",\\n    \"type\" : \"FOLDER\"\\n  }, {\\n    \"id\" : \"str:folder:fhbai\",\\n    \"label\" : \"Households Below Average Income\",\\n    \"location\" : \"https://stat-xplore.dwp.gov.uk/webapi/rest/v1/schema/str:folder:fhbai\",\\n    \"type\" : \"FOLDER\"\\n  }, {\\n    \"id\" : \"str:folder:fhb\",\\n    \"label\" : \"Housing Benefit\",\\n    \"location\" : \"https://stat-xplore.dwp.gov.uk/webapi/rest/v1/schema/str:folder:fhb\",\\n    \"type\" : \"FOLDER\"\\n  }, {\\n    \"id\" : \"str:folder:fibsda\",\\n    \"label\" : \"Incapacity Benefit and Severe Disablement Allowance\",\\n    \"location\" : \"https://stat-xplore.dwp.gov.uk/webapi/rest/v1/schema/str:folder:fibsda\",\\n    \"type\" : \"FOLDER\"\\n  }, {\\n    \"id\" : \"str:folder:fis\",\\n    \"label\" : \"Income Support\",\\n    \"location\" : \"https://stat-xplore.dwp.gov.uk/webapi/rest/v1/schema/str:folder:fis\",\\n    \"type\" : \"FOLDER\"\\n  }, {\\n    \"id\" : \"str:folder:fiidb\",\\n    \"label\" : \"Industrial Injuries Disablement Benefit (IIDB)\",\\n    \"location\" : \"https://stat-xplore.dwp.gov.uk/webapi/rest/v1/schema/str:folder:fiidb\",\\n    \"type\" : \"FOLDER\"\\n  }, {\\n    \"id\" : \"str:folder:fjsa\",\\n    \"label\" : \"Jobseekers Allowance\",\\n    \"location\" : \"https://stat-xplore.dwp.gov.uk/webapi/rest/v1/schema/str:folder:fjsa\",\\n    \"type\" : \"FOLDER\"\\n  }, {\\n    \"id\" : \"str:folder:fNINO\",\\n    \"label\" : \"NINO Registrations\",\\n    \"location\" : \"https://stat-xplore.dwp.gov.uk/webapi/rest/v1/schema/str:folder:fNINO\",\\n    \"type\" : \"FOLDER\"\\n  }, {\\n    \"id\" : \"str:folder:fpc\",\\n    \"label\" : \"Pension Credit\",\\n    \"location\" : \"https://stat-xplore.dwp.gov.uk/webapi/rest/v1/schema/str:folder:fpc\",\\n    \"type\" : \"FOLDER\"\\n  }, {\\n    \"id\" : \"str:folder:fpi\",\\n    \"label\" : \"Pensioner Income\",\\n    \"location\" : \"https://stat-xplore.dwp.gov.uk/webapi/rest/v1/schema/str:folder:fpi\",\\n    \"type\" : \"FOLDER\"\\n  }, {\\n    \"id\" : \"str:folder:fpip\",\\n    \"label\" : \"Personal Independence Payment\",\\n    \"location\" : \"https://stat-xplore.dwp.gov.uk/webapi/rest/v1/schema/str:folder:fpip\",\\n    \"type\" : \"FOLDER\"\\n  }, {\\n    \"id\" : \"str:folder:fpop\",\\n    \"label\" : \"Population Estimates\",\\n    \"location\" : \"https://stat-xplore.dwp.gov.uk/webapi/rest/v1/schema/str:folder:fpop\",\\n    \"type\" : \"FOLDER\"\\n  }, {\\n    \"id\" : \"str:folder:fsanc\",\\n    \"label\" : \"Sanction Decisions\",\\n    \"location\" : \"https://stat-xplore.dwp.gov.uk/webapi/rest/v1/schema/str:folder:fsanc\",\\n    \"type\" : \"FOLDER\"\\n  }, {\\n    \"id\" : \"str:folder:fsp\",\\n    \"label\" : \"State Pension\",\\n    \"location\" : \"https://stat-xplore.dwp.gov.uk/webapi/rest/v1/schema/str:folder:fsp\",\\n    \"type\" : \"FOLDER\"\\n  }, {\\n    \"id\" : \"str:folder:fsmi\",\\n    \"label\" : \"Support for Mortgage Interest\",\\n    \"location\" : \"https://stat-xplore.dwp.gov.uk/webapi/rest/v1/schema/str:folder:fsmi\",\\n    \"type\" : \"FOLDER\"\\n  }, {\\n    \"id\" : \"str:folder:fuc\",\\n    \"label\" : \"Universal Credit\",\\n    \"location\" : \"https://stat-xplore.dwp.gov.uk/webapi/rest/v1/schema/str:folder:fuc\",\\n    \"type\" : \"FOLDER\"\\n  }, {\\n    \"id\" : \"str:folder:fwb\",\\n    \"label\" : \"Widow\\'s Benefit\",\\n    \"location\" : \"https://stat-xplore.dwp.gov.uk/webapi/rest/v1/schema/str:folder:fwb\",\\n    \"type\" : \"FOLDER\"\\n  }, {\\n    \"id\" : \"str:folder:fwhp\",\\n    \"label\" : \"Work and Health Programme (WHP)\",\\n    \"location\" : \"https://stat-xplore.dwp.gov.uk/webapi/rest/v1/schema/str:folder:fwhp\",\\n    \"type\" : \"FOLDER\"\\n  }, {\\n    \"id\" : \"str:folder:fwp\",\\n    \"label\" : \"Work Programme\",\\n    \"location\" : \"https://stat-xplore.dwp.gov.uk/webapi/rest/v1/schema/str:folder:fwp\",\\n    \"type\" : \"FOLDER\"\\n  } ]\\n}'\n"
     ]
    }
   ],
   "source": [
    "r = requests.get('https://stat-xplore.dwp.gov.uk/webapi/rest/v1/schema', headers = {'apikey':'65794a30655841694f694a4b563151694c434a68624763694f694a49557a49314e694a392e65794a7063334d694f694a7a644849756333526c6247786863694973496e4e3159694936496e646b5a323979625746755147647459576c734c6d4e7662534973496d6c68644349364d5459794e5451354e5449334d5377695958566b496a6f69633352794c6d396b59534a392e664e67356b71762d506763346a376a3274496a67394d535f5f384748547833315251456c6330342d58586f'})\n",
    "print(r.content)"
   ]
  },
  {
   "cell_type": "code",
   "execution_count": 165,
   "id": "b4883d83",
   "metadata": {},
   "outputs": [
    {
     "name": "stdout",
     "output_type": "stream",
     "text": [
      "b'{\\n  \"id\" : \"str:folder:fuc\",\\n  \"label\" : \"Universal Credit\",\\n  \"location\" : \"https://stat-xplore.dwp.gov.uk/webapi/rest/v1/schema/str:folder:fuc\",\\n  \"type\" : \"FOLDER\",\\n  \"children\" : [ {\\n    \"id\" : \"str:database:UC_Claims\",\\n    \"label\" : \"Claims made to Universal Credit\",\\n    \"location\" : \"https://stat-xplore.dwp.gov.uk/webapi/rest/v1/schema/str:database:UC_Claims\",\\n    \"type\" : \"DATABASE\",\\n    \"lastModified\" : 1625867868250,\\n    \"recordViewEnabled\" : false\\n  }, {\\n    \"id\" : \"str:database:UC_Households\",\\n    \"label\" : \"Households on Universal Credit\",\\n    \"location\" : \"https://stat-xplore.dwp.gov.uk/webapi/rest/v1/schema/str:database:UC_Households\",\\n    \"type\" : \"DATABASE\",\\n    \"lastModified\" : 1625867868250,\\n    \"recordViewEnabled\" : false\\n  }, {\\n    \"id\" : \"str:database:UC_Monthly\",\\n    \"label\" : \"People on Universal Credit\",\\n    \"location\" : \"https://stat-xplore.dwp.gov.uk/webapi/rest/v1/schema/str:database:UC_Monthly\",\\n    \"type\" : \"DATABASE\",\\n    \"lastModified\" : 1625867868250,\\n    \"recordViewEnabled\" : false\\n  }, {\\n    \"id\" : \"str:database:UC_Starts\",\\n    \"label\" : \"Starts to Universal Credit\",\\n    \"location\" : \"https://stat-xplore.dwp.gov.uk/webapi/rest/v1/schema/str:database:UC_Starts\",\\n    \"type\" : \"DATABASE\",\\n    \"lastModified\" : 1625867868250,\\n    \"recordViewEnabled\" : false\\n  } ]\\n}'\n"
     ]
    }
   ],
   "source": [
    "r = requests.get('https://stat-xplore.dwp.gov.uk/webapi/rest/v1/schema/str:folder:fuc', headers = {'apikey':'65794a30655841694f694a4b563151694c434a68624763694f694a49557a49314e694a392e65794a7063334d694f694a7a644849756333526c6247786863694973496e4e3159694936496e646b5a323979625746755147647459576c734c6d4e7662534973496d6c68644349364d5459794e5451354e5449334d5377695958566b496a6f69633352794c6d396b59534a392e664e67356b71762d506763346a376a3274496a67394d535f5f384748547833315251456c6330342d58586f'})\n",
    "print(r.content)"
   ]
  },
  {
   "cell_type": "code",
   "execution_count": 163,
   "id": "fbfe8f0c",
   "metadata": {},
   "outputs": [
    {
     "name": "stdout",
     "output_type": "stream",
     "text": [
      "b'{\\n  \"id\" : \"str:database:UC_Households\",\\n  \"label\" : \"Households on Universal Credit\",\\n  \"location\" : \"https://stat-xplore.dwp.gov.uk/webapi/rest/v1/schema/str:database:UC_Households\",\\n  \"type\" : \"DATABASE\",\\n  \"lastModified\" : 1625869017311,\\n  \"recordViewEnabled\" : false,\\n  \"children\" : [ {\\n    \"id\" : \"str:count:UC_Households:V_F_UC_HOUSEHOLDS\",\\n    \"label\" : \"Households on Universal Credit\",\\n    \"location\" : \"https://stat-xplore.dwp.gov.uk/webapi/rest/v1/schema/str:count:UC_Households:V_F_UC_HOUSEHOLDS\",\\n    \"type\" : \"COUNT\",\\n    \"functions\" : [ \"COUNT\" ]\\n  }, {\\n    \"id\" : \"str:measure:UC_Households:V_F_UC_HOUSEHOLDS:HNTOTAL_PAYMENT_AMOUNT\",\\n    \"label\" : \"Payment Amount\",\\n    \"location\" : \"https://stat-xplore.dwp.gov.uk/webapi/rest/v1/schema/str:measure:UC_Households:V_F_UC_HOUSEHOLDS:HNTOTAL_PAYMENT_AMOUNT\",\\n    \"type\" : \"MEASURE\",\\n    \"functions\" : [ \"MEAN\" ]\\n  }, {\\n    \"id\" : \"str:measure:UC_Households:V_F_UC_HOUSEHOLDS:rsrs_deduction\",\\n    \"label\" : \"RSRS reduction\",\\n    \"location\" : \"https://stat-xplore.dwp.gov.uk/webapi/rest/v1/schema/str:measure:UC_Households:V_F_UC_HOUSEHOLDS:rsrs_deduction\",\\n    \"type\" : \"MEASURE\",\\n    \"functions\" : [ \"MEAN\" ]\\n  }, {\\n    \"id\" : \"str:field:UC_Households:F_UC_DATE:DATE_NAME\",\\n    \"label\" : \"Month\",\\n    \"location\" : \"https://stat-xplore.dwp.gov.uk/webapi/rest/v1/schema/str:field:UC_Households:F_UC_DATE:DATE_NAME\",\\n    \"type\" : \"FIELD\"\\n  }, {\\n    \"id\" : \"str:group:UC_Households:X_Geography+%28residence-based%29\",\\n    \"label\" : \"Geography (residence-based)\",\\n    \"location\" : \"https://stat-xplore.dwp.gov.uk/webapi/rest/v1/schema/str:group:UC_Households:X_Geography+%2528residence-based%2529\",\\n    \"type\" : \"GROUP\"\\n  }, {\\n    \"id\" : \"str:group:UC_Households:X_Geography+%28Jobcentre+Plus%29\",\\n    \"label\" : \"Geography (Jobcentre Plus)\",\\n    \"location\" : \"https://stat-xplore.dwp.gov.uk/webapi/rest/v1/schema/str:group:UC_Households:X_Geography+%2528Jobcentre+Plus%2529\",\\n    \"type\" : \"GROUP\"\\n  }, {\\n    \"id\" : \"str:group:UC_Households:X_Geography+%28postcode%29\",\\n    \"label\" : \"Geography (postcode)\",\\n    \"location\" : \"https://stat-xplore.dwp.gov.uk/webapi/rest/v1/schema/str:group:UC_Households:X_Geography+%2528postcode%2529\",\\n    \"type\" : \"GROUP\"\\n  }, {\\n    \"id\" : \"str:field:UC_Households:V_F_UC_HOUSEHOLDS:hnfamily_type\",\\n    \"label\" : \"Family Type\",\\n    \"location\" : \"https://stat-xplore.dwp.gov.uk/webapi/rest/v1/schema/str:field:UC_Households:V_F_UC_HOUSEHOLDS:hnfamily_type\",\\n    \"type\" : \"FIELD\"\\n  }, {\\n    \"id\" : \"str:field:UC_Households:V_F_UC_HOUSEHOLDS:HCPAYMENT\",\\n    \"label\" : \"Payment Indicator\",\\n    \"location\" : \"https://stat-xplore.dwp.gov.uk/webapi/rest/v1/schema/str:field:UC_Households:V_F_UC_HOUSEHOLDS:HCPAYMENT\",\\n    \"type\" : \"FIELD\"\\n  }, {\\n    \"id\" : \"str:field:UC_Households:V_F_UC_HOUSEHOLDS:hnpayment_band\",\\n    \"label\" : \"Monthly Award Amount (bands)\",\\n    \"location\" : \"https://stat-xplore.dwp.gov.uk/webapi/rest/v1/schema/str:field:UC_Households:V_F_UC_HOUSEHOLDS:hnpayment_band\",\\n    \"type\" : \"FIELD\"\\n  }, {\\n    \"id\" : \"str:group:UC_Households:X_Universal+Credit+Entitlement\",\\n    \"label\" : \"Universal Credit Entitlement\",\\n    \"location\" : \"https://stat-xplore.dwp.gov.uk/webapi/rest/v1/schema/str:group:UC_Households:X_Universal+Credit+Entitlement\",\\n    \"type\" : \"GROUP\"\\n  }, {\\n    \"id\" : \"str:group:UC_Households:X_Alternative+Payment+Arrangements\",\\n    \"label\" : \"Alternative Payment Arrangements\",\\n    \"location\" : \"https://stat-xplore.dwp.gov.uk/webapi/rest/v1/schema/str:group:UC_Households:X_Alternative+Payment+Arrangements\",\\n    \"type\" : \"GROUP\"\\n  }, {\\n    \"id\" : \"str:group:UC_Households:X_Universal+Credit+Scottish+Choices\",\\n    \"label\" : \"Universal Credit Scottish Choices\",\\n    \"location\" : \"https://stat-xplore.dwp.gov.uk/webapi/rest/v1/schema/str:group:UC_Households:X_Universal+Credit+Scottish+Choices\",\\n    \"type\" : \"GROUP\"\\n  }, {\\n    \"id\" : \"str:group:UC_Households:X_Payment+Timeliness\",\\n    \"label\" : \"Payment Timeliness\",\\n    \"location\" : \"https://stat-xplore.dwp.gov.uk/webapi/rest/v1/schema/str:group:UC_Households:X_Payment+Timeliness\",\\n    \"type\" : \"GROUP\"\\n  }, {\\n    \"id\" : \"str:group:UC_Households:X_Removal+of+spare+room+subsidy\",\\n    \"label\" : \"Removal of spare room subsidy\",\\n    \"location\" : \"https://stat-xplore.dwp.gov.uk/webapi/rest/v1/schema/str:group:UC_Households:X_Removal+of+spare+room+subsidy\",\\n    \"type\" : \"GROUP\"\\n  }, {\\n    \"id\" : \"str:group:UC_Households:X_Local+housing+allowance\",\\n    \"label\" : \"Local housing allowance\",\\n    \"location\" : \"https://stat-xplore.dwp.gov.uk/webapi/rest/v1/schema/str:group:UC_Households:X_Local+housing+allowance\",\\n    \"type\" : \"GROUP\"\\n  } ]\\n}'\n"
     ]
    }
   ],
   "source": [
    "r = requests.get('https://stat-xplore.dwp.gov.uk/webapi/rest/v1/schema/str:database:UC_Households', headers = {'apikey':'65794a30655841694f694a4b563151694c434a68624763694f694a49557a49314e694a392e65794a7063334d694f694a7a644849756333526c6247786863694973496e4e3159694936496e646b5a323979625746755147647459576c734c6d4e7662534973496d6c68644349364d5459794e5451354e5449334d5377695958566b496a6f69633352794c6d396b59534a392e664e67356b71762d506763346a376a3274496a67394d535f5f384748547833315251456c6330342d58586f'})\n",
    "print(r.content)"
   ]
  },
  {
   "cell_type": "code",
   "execution_count": 166,
   "id": "a2b36ac2",
   "metadata": {},
   "outputs": [
    {
     "name": "stdout",
     "output_type": "stream",
     "text": [
      "b'{\\n  \"id\" : \"str:group:UC_Households:X_Geography+%28residence-based%29\",\\n  \"label\" : \"Geography (residence-based)\",\\n  \"location\" : \"https://stat-xplore.dwp.gov.uk/webapi/rest/v1/schema/str:group:UC_Households:X_Geography+%2528residence-based%2529\",\\n  \"type\" : \"GROUP\",\\n  \"children\" : [ {\\n    \"id\" : \"str:field:UC_Households:V_F_UC_HOUSEHOLDS:COA_CODE\",\\n    \"label\" : \"National - Regional - LA - OAs\",\\n    \"location\" : \"https://stat-xplore.dwp.gov.uk/webapi/rest/v1/schema/str:field:UC_Households:V_F_UC_HOUSEHOLDS:COA_CODE\",\\n    \"type\" : \"FIELD\"\\n  }, {\\n    \"id\" : \"str:field:UC_Households:V_F_UC_HOUSEHOLDS:WARD_CODE\",\\n    \"label\" : \"National - Regional - LA - Ward\",\\n    \"location\" : \"https://stat-xplore.dwp.gov.uk/webapi/rest/v1/schema/str:field:UC_Households:V_F_UC_HOUSEHOLDS:WARD_CODE\",\\n    \"type\" : \"FIELD\"\\n  }, {\\n    \"id\" : \"str:field:UC_Households:V_F_UC_HOUSEHOLDS:PARLC_CODE\",\\n    \"label\" : \"Westminster Parliamentary Constituencies\",\\n    \"location\" : \"https://stat-xplore.dwp.gov.uk/webapi/rest/v1/schema/str:field:UC_Households:V_F_UC_HOUSEHOLDS:PARLC_CODE\",\\n    \"type\" : \"FIELD\"\\n  } ]\\n}'\n"
     ]
    }
   ],
   "source": [
    "r = requests.get('https://stat-xplore.dwp.gov.uk/webapi/rest/v1/schema/str:group:UC_Households:X_Geography+%2528residence-based%2529', headers = {'apikey':'65794a30655841694f694a4b563151694c434a68624763694f694a49557a49314e694a392e65794a7063334d694f694a7a644849756333526c6247786863694973496e4e3159694936496e646b5a323979625746755147647459576c734c6d4e7662534973496d6c68644349364d5459794e5451354e5449334d5377695958566b496a6f69633352794c6d396b59534a392e664e67356b71762d506763346a376a3274496a67394d535f5f384748547833315251456c6330342d58586f'})\n",
    "print(r.content)"
   ]
  },
  {
   "cell_type": "code",
   "execution_count": 167,
   "id": "2de6b5bf",
   "metadata": {},
   "outputs": [
    {
     "name": "stdout",
     "output_type": "stream",
     "text": [
      "b'{\\n  \"id\" : \"str:field:UC_Households:V_F_UC_HOUSEHOLDS:WARD_CODE\",\\n  \"label\" : \"National - Regional - LA - Ward\",\\n  \"location\" : \"https://stat-xplore.dwp.gov.uk/webapi/rest/v1/schema/str:field:UC_Households:V_F_UC_HOUSEHOLDS:WARD_CODE\",\\n  \"type\" : \"FIELD\",\\n  \"children\" : [ {\\n    \"id\" : \"str:valueset:UC_Households:V_F_UC_HOUSEHOLDS:WARD_CODE:V_C_MASTERGEOG11_WARD_TO_LA\",\\n    \"label\" : \"Ward\",\\n    \"location\" : \"https://stat-xplore.dwp.gov.uk/webapi/rest/v1/schema/str:valueset:UC_Households:V_F_UC_HOUSEHOLDS:WARD_CODE:V_C_MASTERGEOG11_WARD_TO_LA\",\\n    \"type\" : \"VALUESET\"\\n  }, {\\n    \"id\" : \"str:valueset:UC_Households:V_F_UC_HOUSEHOLDS:WARD_CODE:V_C_MASTERGEOG11_LA_TO_REGION\",\\n    \"label\" : \"Local Authority\",\\n    \"location\" : \"https://stat-xplore.dwp.gov.uk/webapi/rest/v1/schema/str:valueset:UC_Households:V_F_UC_HOUSEHOLDS:WARD_CODE:V_C_MASTERGEOG11_LA_TO_REGION\",\\n    \"type\" : \"VALUESET\"\\n  }, {\\n    \"id\" : \"str:valueset:UC_Households:V_F_UC_HOUSEHOLDS:WARD_CODE:V_C_MASTERGEOG11_REGION_TO_COUNTRY\",\\n    \"label\" : \"Region\",\\n    \"location\" : \"https://stat-xplore.dwp.gov.uk/webapi/rest/v1/schema/str:valueset:UC_Households:V_F_UC_HOUSEHOLDS:WARD_CODE:V_C_MASTERGEOG11_REGION_TO_COUNTRY\",\\n    \"type\" : \"VALUESET\"\\n  }, {\\n    \"id\" : \"str:valueset:UC_Households:V_F_UC_HOUSEHOLDS:WARD_CODE:V_C_MASTERGEOG11_COUNTRY_TO_GB\",\\n    \"label\" : \"Country\",\\n    \"location\" : \"https://stat-xplore.dwp.gov.uk/webapi/rest/v1/schema/str:valueset:UC_Households:V_F_UC_HOUSEHOLDS:WARD_CODE:V_C_MASTERGEOG11_COUNTRY_TO_GB\",\\n    \"type\" : \"VALUESET\"\\n  }, {\\n    \"id\" : \"str:valueset:UC_Households:V_F_UC_HOUSEHOLDS:WARD_CODE:V_C_MASTERGEOG11_GB\",\\n    \"label\" : \"Great Britain\",\\n    \"location\" : \"https://stat-xplore.dwp.gov.uk/webapi/rest/v1/schema/str:valueset:UC_Households:V_F_UC_HOUSEHOLDS:WARD_CODE:V_C_MASTERGEOG11_GB\",\\n    \"type\" : \"VALUESET\"\\n  } ]\\n}'\n"
     ]
    }
   ],
   "source": [
    "r = requests.get('https://stat-xplore.dwp.gov.uk/webapi/rest/v1/schema/str:field:UC_Households:V_F_UC_HOUSEHOLDS:WARD_CODE', headers = {'apikey':'65794a30655841694f694a4b563151694c434a68624763694f694a49557a49314e694a392e65794a7063334d694f694a7a644849756333526c6247786863694973496e4e3159694936496e646b5a323979625746755147647459576c734c6d4e7662534973496d6c68644349364d5459794e5451354e5449334d5377695958566b496a6f69633352794c6d396b59534a392e664e67356b71762d506763346a376a3274496a67394d535f5f384748547833315251456c6330342d58586f'})\n",
    "print(r.content)"
   ]
  },
  {
   "cell_type": "code",
   "execution_count": 203,
   "id": "4d97ea65",
   "metadata": {},
   "outputs": [
    {
     "name": "stdout",
     "output_type": "stream",
     "text": [
      "b'{\\n  \"id\" : \"str:valueset:UC_Households:V_F_UC_HOUSEHOLDS:WARD_CODE:V_C_MASTERGEOG11_GB\",\\n  \"label\" : \"Great Britain\",\\n  \"location\" : \"https://stat-xplore.dwp.gov.uk/webapi/rest/v1/schema/str:valueset:UC_Households:V_F_UC_HOUSEHOLDS:WARD_CODE:V_C_MASTERGEOG11_GB\",\\n  \"type\" : \"VALUESET\",\\n  \"children\" : [ {\\n    \"id\" : \"str:value:UC_Households:V_F_UC_HOUSEHOLDS:WARD_CODE:V_C_MASTERGEOG11_GB:K03000001\",\\n    \"label\" : \"Great Britain\",\\n    \"location\" : \"https://stat-xplore.dwp.gov.uk/webapi/rest/v1/schema/str:value:UC_Households:V_F_UC_HOUSEHOLDS:WARD_CODE:V_C_MASTERGEOG11_GB:K03000001\",\\n    \"type\" : \"VALUE\"\\n  }, {\\n    \"id\" : \"str:value:UC_Households:V_F_UC_HOUSEHOLDS:WARD_CODE:V_C_MASTERGEOG11_GB:ZZXXXXXXX\",\\n    \"label\" : \"Unknown\",\\n    \"location\" : \"https://stat-xplore.dwp.gov.uk/webapi/rest/v1/schema/str:value:UC_Households:V_F_UC_HOUSEHOLDS:WARD_CODE:V_C_MASTERGEOG11_GB:ZZXXXXXXX\",\\n    \"type\" : \"VALUE\"\\n  } ]\\n}'\n"
     ]
    }
   ],
   "source": [
    "r = requests.get('https://stat-xplore.dwp.gov.uk/webapi/rest/v1/schema/str:valueset:UC_Households:V_F_UC_HOUSEHOLDS:WARD_CODE:V_C_MASTERGEOG11_GB', headers = {'apikey':'65794a30655841694f694a4b563151694c434a68624763694f694a49557a49314e694a392e65794a7063334d694f694a7a644849756333526c6247786863694973496e4e3159694936496e646b5a323979625746755147647459576c734c6d4e7662534973496d6c68644349364d5459794e5451354e5449334d5377695958566b496a6f69633352794c6d396b59534a392e664e67356b71762d506763346a376a3274496a67394d535f5f384748547833315251456c6330342d58586f'})\n",
    "print(r.content)"
   ]
  },
  {
   "cell_type": "code",
   "execution_count": 153,
   "id": "a2d02d92",
   "metadata": {
    "scrolled": true
   },
   "outputs": [
    {
     "name": "stdout",
     "output_type": "stream",
     "text": [
      "b'{\"languages\":[]}'\n"
     ]
    }
   ],
   "source": [
    "r = requests.get('https://stat-xplore.dwp.gov.uk/webapi/rest/v1/info', headers = {'apikey':'65794a30655841694f694a4b563151694c434a68624763694f694a49557a49314e694a392e65794a7063334d694f694a7a644849756333526c6247786863694973496e4e3159694936496e646b5a323979625746755147647459576c734c6d4e7662534973496d6c68644349364d5459794e5451354e5449334d5377695958566b496a6f69633352794c6d396b59534a392e664e67356b71762d506763346a376a3274496a67394d535f5f384748547833315251456c6330342d58586f'})\n",
    "print(r.content)"
   ]
  },
  {
   "cell_type": "code",
   "execution_count": 154,
   "id": "59323652",
   "metadata": {
    "scrolled": true
   },
   "outputs": [
    {
     "name": "stdout",
     "output_type": "stream",
     "text": [
      "b'{\"remaining\":9974,\"limit\":10000,\"reset\":1625869946937}'\n"
     ]
    }
   ],
   "source": [
    "r = requests.get('https://stat-xplore.dwp.gov.uk/webapi/rest/v1/rate_limit', headers = {'apikey':'65794a30655841694f694a4b563151694c434a68624763694f694a49557a49314e694a392e65794a7063334d694f694a7a644849756333526c6247786863694973496e4e3159694936496e646b5a323979625746755147647459576c734c6d4e7662534973496d6c68644349364d5459794e5451354e5449334d5377695958566b496a6f69633352794c6d396b59534a392e664e67356b71762d506763346a376a3274496a67394d535f5f384748547833315251456c6330342d58586f'})\n",
    "print(r.content)"
   ]
  },
  {
   "cell_type": "code",
   "execution_count": null,
   "id": "75b8a389",
   "metadata": {},
   "outputs": [],
   "source": [
    "data = {\n",
    "    \"database\" : \"str:database:UC_Households\",\n",
    "    \"measures\" : [\"str:count:UC_Households:V_F_UC_HOUSEHOLDS\"],\n",
    "    \"recodes\" : {\n",
    "        \"str:field:UC_Households:V_F_UC_HOUSEHOLDS:WARD_CODE\" : {\n",
    "            \"map\" : [\n",
    "                [\n",
    "                    \"str:value:UC_Households:V_F_UC_HOUSEHOLDS:WARD_CODE:V_C_MASTERGEOG11_GB:K03000001\"\n",
    "                ],\n",
    "            ],\n",
    "            \"total\" : True\n",
    "    }\n",
    "    },\n",
    "    \"dimensions\" :\n",
    "    [\n",
    "        [\n",
    "            \"str:field:UC_Households:V_F_UC_HOUSEHOLDS:WARD_CODE\"\n",
    "        ],\n",
    "        [\n",
    "            \"str:field:UC_Households:F_UC_DATE:DATE_NAME\"\n",
    "        ]\n",
    "    ]\n",
    "}"
   ]
  },
  {
   "cell_type": "code",
   "execution_count": null,
   "id": "ca8b9f7a",
   "metadata": {},
   "outputs": [],
   "source": [
    "url = 'https://stat-xplore.dwp.gov.uk/webapi/rest/v1/table'\n",
    "headers = {'Content-type': 'application/json','apikey':'65794a30655841694f694a4b563151694c434a68624763694f694a49557a49314e694a392e65794a7063334d694f694a7a644849756333526c6247786863694973496e4e3159694936496e646b5a323979625746755147647459576c734c6d4e7662534973496d6c68644349364d5459794e5451354e5449334d5377695958566b496a6f69633352794c6d396b59534a392e664e67356b71762d506763346a376a3274496a67394d535f5f384748547833315251456c6330342d58586f'}\n",
    "r = requests.post(url, data=json.dumps(data), headers=headers)\n",
    "print(r.content)"
   ]
  },
  {
   "cell_type": "code",
   "execution_count": null,
   "id": "c3a49bb9",
   "metadata": {},
   "outputs": [],
   "source": [
    "r.status_code"
   ]
  },
  {
   "cell_type": "code",
   "execution_count": null,
   "id": "533cc80c",
   "metadata": {},
   "outputs": [],
   "source": [
    "print(r)"
   ]
  },
  {
   "cell_type": "code",
   "execution_count": null,
   "id": "96d5fce9",
   "metadata": {},
   "outputs": [],
   "source": []
  }
 ],
 "metadata": {
  "kernelspec": {
   "display_name": "Python 3",
   "language": "python",
   "name": "python3"
  },
  "language_info": {
   "codemirror_mode": {
    "name": "ipython",
    "version": 3
   },
   "file_extension": ".py",
   "mimetype": "text/x-python",
   "name": "python",
   "nbconvert_exporter": "python",
   "pygments_lexer": "ipython3",
   "version": "3.6.13"
  }
 },
 "nbformat": 4,
 "nbformat_minor": 5
}
