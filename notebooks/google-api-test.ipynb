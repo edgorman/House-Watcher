{
 "cells": [
  {
   "cell_type": "markdown",
   "id": "eecfdcdb",
   "metadata": {},
   "source": [
    "# Google API Tests"
   ]
  },
  {
   "cell_type": "code",
   "execution_count": 1,
   "id": "afda1c71",
   "metadata": {},
   "outputs": [],
   "source": [
    "import sys"
   ]
  },
  {
   "cell_type": "code",
   "execution_count": 2,
   "id": "1d4f037c",
   "metadata": {
    "scrolled": true
   },
   "outputs": [],
   "source": [
    "sys.path.append('../property-fundamentals')\n",
    "from google_api.api import API"
   ]
  },
  {
   "cell_type": "code",
   "execution_count": 3,
   "id": "fbfe8f0c",
   "metadata": {},
   "outputs": [],
   "source": [
    "google_api = API(key_path=\"../property-fundamentals/google_api/key.txt\")"
   ]
  },
  {
   "cell_type": "code",
   "execution_count": 4,
   "id": "a7fde42c",
   "metadata": {},
   "outputs": [],
   "source": [
    "response = google_api.find_place_from_text(\"Museum of Contemporary Art Australia\")"
   ]
  },
  {
   "cell_type": "code",
   "execution_count": 5,
   "id": "a2d02d92",
   "metadata": {
    "scrolled": true
   },
   "outputs": [],
   "source": [
    "response"
   ]
  },
  {
   "cell_type": "markdown",
   "id": "7951743c",
   "metadata": {},
   "source": [
    "#### Warning: The below request will charge 2p every time it is ran"
   ]
  },
  {
   "cell_type": "code",
   "execution_count": 6,
   "id": "59323652",
   "metadata": {
    "scrolled": true
   },
   "outputs": [
    {
     "data": {
      "text/plain": [
       "['accounting',\n",
       " 'airport',\n",
       " 'amusement_park',\n",
       " 'aquarium',\n",
       " 'art_gallery',\n",
       " 'atm',\n",
       " 'bakery',\n",
       " 'bank',\n",
       " 'bar',\n",
       " 'beauty_salon',\n",
       " 'bicycle_store',\n",
       " 'book_store',\n",
       " 'bowling_alley',\n",
       " 'bus_station',\n",
       " 'cafe',\n",
       " 'campground',\n",
       " 'car_dealer',\n",
       " 'car_rental',\n",
       " 'car_repair',\n",
       " 'car_wash',\n",
       " 'casino',\n",
       " 'cemetery',\n",
       " 'church',\n",
       " 'city_hall',\n",
       " 'clothing_store',\n",
       " 'convenience_store',\n",
       " 'courthouse',\n",
       " 'dentist',\n",
       " 'department_store',\n",
       " 'doctor',\n",
       " 'drugstore',\n",
       " 'electrician',\n",
       " 'electronics_store',\n",
       " 'embassy',\n",
       " 'fire_station',\n",
       " 'florist',\n",
       " 'funeral_home',\n",
       " 'furniture_store',\n",
       " 'gas_station',\n",
       " 'gym',\n",
       " 'hair_care',\n",
       " 'hardware_store',\n",
       " 'hindu_temple',\n",
       " 'home_goods_store',\n",
       " 'hospital',\n",
       " 'insurance_agency',\n",
       " 'jewelry_store',\n",
       " 'laundry',\n",
       " 'lawyer',\n",
       " 'library',\n",
       " 'light_rail_station',\n",
       " 'liquor_store',\n",
       " 'local_government_office',\n",
       " 'locksmith',\n",
       " 'lodging',\n",
       " 'meal_delivery',\n",
       " 'meal_takeaway',\n",
       " 'mosque',\n",
       " 'movie_rental',\n",
       " 'movie_theater',\n",
       " 'moving_company',\n",
       " 'museum',\n",
       " 'night_club',\n",
       " 'painter',\n",
       " 'park',\n",
       " 'parking',\n",
       " 'pet_store',\n",
       " 'pharmacy',\n",
       " 'physiotherapist',\n",
       " 'plumber',\n",
       " 'police',\n",
       " 'post_office',\n",
       " 'primary_school',\n",
       " 'real_estate_agency',\n",
       " 'restaurant',\n",
       " 'roofing_contractor',\n",
       " 'rv_park',\n",
       " 'school',\n",
       " 'secondary_school',\n",
       " 'shoe_store',\n",
       " 'shopping_mall',\n",
       " 'spa',\n",
       " 'stadium',\n",
       " 'storage',\n",
       " 'store',\n",
       " 'subway_station',\n",
       " 'supermarket',\n",
       " 'synagogue',\n",
       " 'taxi_stand',\n",
       " 'tourist_attraction',\n",
       " 'train_station',\n",
       " 'transit_station',\n",
       " 'travel_agency',\n",
       " 'university',\n",
       " 'veterinary_care',\n",
       " 'zoo']"
      ]
     },
     "execution_count": 6,
     "metadata": {},
     "output_type": "execute_result"
    }
   ],
   "source": [
    "google_api.get_place_types()"
   ]
  },
  {
   "cell_type": "code",
   "execution_count": 8,
   "id": "bd9ee976",
   "metadata": {
    "scrolled": false
   },
   "outputs": [
    {
     "ename": "TypeError",
     "evalue": "'NoneType' object is not subscriptable",
     "output_type": "error",
     "traceback": [
      "\u001b[1;31m---------------------------------------------------------------------------\u001b[0m",
      "\u001b[1;31mTypeError\u001b[0m                                 Traceback (most recent call last)",
      "\u001b[1;32m<ipython-input-8-9505a850ac42>\u001b[0m in \u001b[0;36m<module>\u001b[1;34m\u001b[0m\n\u001b[0;32m      3\u001b[0m     \u001b[1;33m-\u001b[0m\u001b[1;36m1.915893\u001b[0m\u001b[1;33m,\u001b[0m\u001b[1;33m\u001b[0m\u001b[1;33m\u001b[0m\u001b[0m\n\u001b[0;32m      4\u001b[0m     \u001b[1;36m10000\u001b[0m\u001b[1;33m,\u001b[0m\u001b[1;33m\u001b[0m\u001b[1;33m\u001b[0m\u001b[0m\n\u001b[1;32m----> 5\u001b[1;33m     \u001b[0mlocation_type\u001b[0m\u001b[1;33m=\u001b[0m\u001b[1;34m'university'\u001b[0m\u001b[1;33m\u001b[0m\u001b[1;33m\u001b[0m\u001b[0m\n\u001b[0m\u001b[0;32m      6\u001b[0m )\n",
      "\u001b[1;32m~\\Desktop\\Property Fundamentals\\Github Repository\\Property Fundamentals\\property-fundamentals\\google_api\\api.py\u001b[0m in \u001b[0;36mnearby_search\u001b[1;34m(self, lat, lon, radius, location_type)\u001b[0m\n\u001b[0;32m    193\u001b[0m                 \u001b[1;32mbreak\u001b[0m\u001b[1;33m\u001b[0m\u001b[1;33m\u001b[0m\u001b[0m\n\u001b[0;32m    194\u001b[0m \u001b[1;33m\u001b[0m\u001b[0m\n\u001b[1;32m--> 195\u001b[1;33m             \u001b[1;32mfor\u001b[0m \u001b[0mplace\u001b[0m \u001b[1;32min\u001b[0m \u001b[0mresponse\u001b[0m\u001b[1;33m[\u001b[0m\u001b[1;34m'results'\u001b[0m\u001b[1;33m]\u001b[0m\u001b[1;33m:\u001b[0m\u001b[1;33m\u001b[0m\u001b[1;33m\u001b[0m\u001b[0m\n\u001b[0m\u001b[0;32m    196\u001b[0m                 \u001b[1;32mtry\u001b[0m\u001b[1;33m:\u001b[0m\u001b[1;33m\u001b[0m\u001b[1;33m\u001b[0m\u001b[0m\n\u001b[0;32m    197\u001b[0m                     \u001b[0ma\u001b[0m \u001b[1;33m=\u001b[0m \u001b[0mplace\u001b[0m\u001b[1;33m[\u001b[0m\u001b[1;34m'name'\u001b[0m\u001b[1;33m]\u001b[0m\u001b[1;33m\u001b[0m\u001b[1;33m\u001b[0m\u001b[0m\n",
      "\u001b[1;31mTypeError\u001b[0m: 'NoneType' object is not subscriptable"
     ]
    }
   ],
   "source": [
    "train_result = google_api.nearby_search(\n",
    "    50.922515,\n",
    "    -1.915893,\n",
    "    10000,\n",
    "    location_type='university'\n",
    ")"
   ]
  },
  {
   "cell_type": "code",
   "execution_count": null,
   "id": "ced69a3d",
   "metadata": {},
   "outputs": [],
   "source": [
    "for place in train_result:\n",
    "    print(place)"
   ]
  },
  {
   "cell_type": "code",
   "execution_count": null,
   "id": "c0850cc8",
   "metadata": {
    "scrolled": false
   },
   "outputs": [],
   "source": [
    "hospital_result = google_api.nearby_search(\n",
    "    50.922515,\n",
    "    -1.415893,\n",
    "    10000,\n",
    "    location_type='hospital'\n",
    ")"
   ]
  },
  {
   "cell_type": "code",
   "execution_count": null,
   "id": "76548aa4",
   "metadata": {},
   "outputs": [],
   "source": [
    "for place in hospital_result:\n",
    "    print(place)"
   ]
  },
  {
   "cell_type": "code",
   "execution_count": null,
   "id": "048e6f40",
   "metadata": {},
   "outputs": [],
   "source": [
    "len(hospital_result)"
   ]
  },
  {
   "cell_type": "code",
   "execution_count": null,
   "id": "8100a086",
   "metadata": {},
   "outputs": [],
   "source": [
    "print(hospital_result[0])"
   ]
  },
  {
   "cell_type": "code",
   "execution_count": null,
   "id": "2e0f0417",
   "metadata": {},
   "outputs": [],
   "source": [
    "print(hospital_result[0][0])"
   ]
  },
  {
   "cell_type": "code",
   "execution_count": null,
   "id": "f6875a1c",
   "metadata": {},
   "outputs": [],
   "source": [
    "print(hospital_result[0][2])"
   ]
  },
  {
   "cell_type": "code",
   "execution_count": null,
   "id": "f8c71c98",
   "metadata": {},
   "outputs": [],
   "source": [
    "for place in train_result:\n",
    "    a = place[2]\n",
    "print(len(train_result))"
   ]
  },
  {
   "cell_type": "code",
   "execution_count": null,
   "id": "18a6f45f",
   "metadata": {},
   "outputs": [],
   "source": [
    "supermarket_result = google_api.nearby_search(\n",
    "    50.922515,\n",
    "    -1.415893,\n",
    "    10000,\n",
    "    location_type='supermarket'\n",
    ")"
   ]
  },
  {
   "cell_type": "code",
   "execution_count": null,
   "id": "a9536a48",
   "metadata": {},
   "outputs": [],
   "source": [
    "for place in supermarket_result:\n",
    "    print(place)"
   ]
  },
  {
   "cell_type": "code",
   "execution_count": null,
   "id": "4d70fea5",
   "metadata": {},
   "outputs": [],
   "source": [
    "print(supermarket_result[0][2])"
   ]
  },
  {
   "cell_type": "code",
   "execution_count": null,
   "id": "faad7ff6",
   "metadata": {},
   "outputs": [],
   "source": [
    "print(supermarket_result[0][2]['lat'])"
   ]
  },
  {
   "cell_type": "code",
   "execution_count": null,
   "id": "75b8a389",
   "metadata": {},
   "outputs": [],
   "source": []
  },
  {
   "cell_type": "code",
   "execution_count": null,
   "id": "147f0e2d",
   "metadata": {},
   "outputs": [],
   "source": []
  },
  {
   "cell_type": "code",
   "execution_count": null,
   "id": "29555f50",
   "metadata": {},
   "outputs": [],
   "source": []
  }
 ],
 "metadata": {
  "kernelspec": {
   "display_name": "Python 3",
   "language": "python",
   "name": "python3"
  },
  "language_info": {
   "codemirror_mode": {
    "name": "ipython",
    "version": 3
   },
   "file_extension": ".py",
   "mimetype": "text/x-python",
   "name": "python",
   "nbconvert_exporter": "python",
   "pygments_lexer": "ipython3",
   "version": "3.6.13"
  }
 },
 "nbformat": 4,
 "nbformat_minor": 5
}
