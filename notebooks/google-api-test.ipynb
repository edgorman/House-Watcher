{
 "cells": [
  {
   "cell_type": "markdown",
   "id": "eecfdcdb",
   "metadata": {},
   "source": [
    "# Google API Tests"
   ]
  },
  {
   "cell_type": "code",
   "execution_count": 1,
   "id": "afda1c71",
   "metadata": {},
   "outputs": [],
   "source": [
    "import sys"
   ]
  },
  {
   "cell_type": "code",
   "execution_count": 2,
   "id": "1d4f037c",
   "metadata": {
    "scrolled": true
   },
   "outputs": [],
   "source": [
    "sys.path.append('../property-fundamentals')\n",
    "from google_api.api import API"
   ]
  },
  {
   "cell_type": "code",
   "execution_count": 3,
   "id": "fbfe8f0c",
   "metadata": {},
   "outputs": [],
   "source": [
    "google_api = API(key_path=\"../property-fundamentals/google_api/key.txt\")"
   ]
  },
  {
   "cell_type": "code",
   "execution_count": 4,
   "id": "a7fde42c",
   "metadata": {},
   "outputs": [],
   "source": [
    "response = google_api.find_place_from_text(\"Museum of Contemporary Art Australia\")"
   ]
  },
  {
   "cell_type": "code",
   "execution_count": 5,
   "id": "a2d02d92",
   "metadata": {
    "scrolled": true
   },
   "outputs": [
    {
     "data": {
      "text/plain": [
       "{'candidates': [{'place_id': 'ChIJ68aBlEKuEmsRHUA9oME5Zh0'}], 'status': 'OK'}"
      ]
     },
     "execution_count": 5,
     "metadata": {},
     "output_type": "execute_result"
    }
   ],
   "source": [
    "response"
   ]
  },
  {
   "cell_type": "markdown",
   "id": "7951743c",
   "metadata": {},
   "source": [
    "#### Warning: The below request will charge 2p every time it is ran"
   ]
  },
  {
   "cell_type": "code",
   "execution_count": 6,
   "id": "59323652",
   "metadata": {
    "scrolled": true
   },
   "outputs": [
    {
     "data": {
      "text/plain": [
       "['accounting',\n",
       " 'airport',\n",
       " 'amusement_park',\n",
       " 'aquarium',\n",
       " 'art_gallery',\n",
       " 'atm',\n",
       " 'bakery',\n",
       " 'bank',\n",
       " 'bar',\n",
       " 'beauty_salon',\n",
       " 'bicycle_store',\n",
       " 'book_store',\n",
       " 'bowling_alley',\n",
       " 'bus_station',\n",
       " 'cafe',\n",
       " 'campground',\n",
       " 'car_dealer',\n",
       " 'car_rental',\n",
       " 'car_repair',\n",
       " 'car_wash',\n",
       " 'casino',\n",
       " 'cemetery',\n",
       " 'church',\n",
       " 'city_hall',\n",
       " 'clothing_store',\n",
       " 'convenience_store',\n",
       " 'courthouse',\n",
       " 'dentist',\n",
       " 'department_store',\n",
       " 'doctor',\n",
       " 'drugstore',\n",
       " 'electrician',\n",
       " 'electronics_store',\n",
       " 'embassy',\n",
       " 'fire_station',\n",
       " 'florist',\n",
       " 'funeral_home',\n",
       " 'furniture_store',\n",
       " 'gas_station',\n",
       " 'gym',\n",
       " 'hair_care',\n",
       " 'hardware_store',\n",
       " 'hindu_temple',\n",
       " 'home_goods_store',\n",
       " 'hospital',\n",
       " 'insurance_agency',\n",
       " 'jewelry_store',\n",
       " 'laundry',\n",
       " 'lawyer',\n",
       " 'library',\n",
       " 'light_rail_station',\n",
       " 'liquor_store',\n",
       " 'local_government_office',\n",
       " 'locksmith',\n",
       " 'lodging',\n",
       " 'meal_delivery',\n",
       " 'meal_takeaway',\n",
       " 'mosque',\n",
       " 'movie_rental',\n",
       " 'movie_theater',\n",
       " 'moving_company',\n",
       " 'museum',\n",
       " 'night_club',\n",
       " 'painter',\n",
       " 'park',\n",
       " 'parking',\n",
       " 'pet_store',\n",
       " 'pharmacy',\n",
       " 'physiotherapist',\n",
       " 'plumber',\n",
       " 'police',\n",
       " 'post_office',\n",
       " 'primary_school',\n",
       " 'real_estate_agency',\n",
       " 'restaurant',\n",
       " 'roofing_contractor',\n",
       " 'rv_park',\n",
       " 'school',\n",
       " 'secondary_school',\n",
       " 'shoe_store',\n",
       " 'shopping_mall',\n",
       " 'spa',\n",
       " 'stadium',\n",
       " 'storage',\n",
       " 'store',\n",
       " 'subway_station',\n",
       " 'supermarket',\n",
       " 'synagogue',\n",
       " 'taxi_stand',\n",
       " 'tourist_attraction',\n",
       " 'train_station',\n",
       " 'transit_station',\n",
       " 'travel_agency',\n",
       " 'university',\n",
       " 'veterinary_care',\n",
       " 'zoo']"
      ]
     },
     "execution_count": 6,
     "metadata": {},
     "output_type": "execute_result"
    }
   ],
   "source": [
    "google_api.get_place_types()"
   ]
  },
  {
   "cell_type": "code",
   "execution_count": 7,
   "id": "bd9ee976",
   "metadata": {
    "scrolled": false
   },
   "outputs": [],
   "source": [
    "train_result = google_api.nearby_search(\n",
    "    50.922515,\n",
    "    -1.915893,\n",
    "    10000,\n",
    "    location_type='university'\n",
    ")"
   ]
  },
  {
   "cell_type": "code",
   "execution_count": 8,
   "id": "ced69a3d",
   "metadata": {},
   "outputs": [
    {
     "name": "stdout",
     "output_type": "stream",
     "text": [
      "('Regard', 'OPERATIONAL', {'lat': 50.9531035, 'lng': -2.0012532}, 2)\n",
      "('Aurora Boveridge College', 'OPERATIONAL', {'lat': 50.9322641, 'lng': -1.9020882}, 4.5)\n",
      "('Airbourne Aviation', 'OPERATIONAL', {'lat': 50.8708871, 'lng': -1.8596254}, None)\n",
      "('Cambridge Open College Ltd', 'OPERATIONAL', {'lat': 50.9979398, 'lng': -1.9027696}, None)\n",
      "('Starcast Fordingbridge', 'OPERATIONAL', {'lat': 50.9268087, 'lng': -1.7880704}, None)\n"
     ]
    }
   ],
   "source": [
    "for place in train_result:\n",
    "    print(place)"
   ]
  },
  {
   "cell_type": "code",
   "execution_count": 9,
   "id": "c0850cc8",
   "metadata": {
    "scrolled": false
   },
   "outputs": [],
   "source": [
    "hospital_result = google_api.nearby_search(\n",
    "    50.922515,\n",
    "    -1.415893,\n",
    "    10000,\n",
    "    location_type='hospital'\n",
    ")"
   ]
  },
  {
   "cell_type": "code",
   "execution_count": 10,
   "id": "76548aa4",
   "metadata": {},
   "outputs": [
    {
     "name": "stdout",
     "output_type": "stream",
     "text": [
      "('Spire Southampton Hospital', 'OPERATIONAL', {'lat': 50.9307722, 'lng': -1.432086}, 3.8)\n",
      "('Princess Anne Hospital', 'OPERATIONAL', {'lat': 50.9353552, 'lng': -1.4348528}, 3.9)\n",
      "('Priory Hospital Southampton', 'OPERATIONAL', {'lat': 50.8810228, 'lng': -1.4450834}, 3.5)\n",
      "('Woolston Lodge Surgery', 'OPERATIONAL', {'lat': 50.897129, 'lng': -1.3720927}, 2.3)\n",
      "('Nuffield Health Wessex Hospital', 'OPERATIONAL', {'lat': 50.99713180000001, 'lng': -1.3585932}, 4.5)\n",
      "('Solent Medical Services Eye Clinic', 'OPERATIONAL', {'lat': 50.9135655, 'lng': -1.398441}, 4)\n",
      "(\"St Peter's Surgery\", 'OPERATIONAL', {'lat': 50.8977513, 'lng': -1.3727824}, 3.3)\n",
      "('Wessex Hepatobiliary Surgery', 'OPERATIONAL', {'lat': 50.930393, 'lng': -1.432942999999999}, None)\n",
      "('Team Medical', 'OPERATIONAL', {'lat': 50.9210695, 'lng': -1.4673965}, 5)\n",
      "('Life Line Screening', 'OPERATIONAL', {'lat': 50.9156401, 'lng': -1.4109365}, None)\n",
      "('Cypher Information Technology Ltd', 'OPERATIONAL', {'lat': 50.9099878, 'lng': -1.4077937}, 5)\n",
      "('Life Line Screening', 'OPERATIONAL', {'lat': 50.9272065, 'lng': -1.3313144}, None)\n",
      "('Life Line Screening', 'OPERATIONAL', {'lat': 50.9670769, 'lng': -1.3736024}, None)\n",
      "('Forest Lodge', 'OPERATIONAL', {'lat': 50.9192804, 'lng': -1.4058547}, None)\n",
      "('Ultralase', 'OPERATIONAL', {'lat': 50.9193575, 'lng': -1.4049456}, None)\n",
      "('Wessex Cardiology Within Spire Southampton Hospital', 'OPERATIONAL', {'lat': 50.9302278, 'lng': -1.4329653}, 5)\n",
      "('Southampton Paediatric Respiratory Clinic', 'OPERATIONAL', {'lat': 50.93034859999999, 'lng': -1.4326675}, None)\n",
      "('Wessex Medical Trust', 'OPERATIONAL', {'lat': 50.9308303, 'lng': -1.4334208}, None)\n",
      "('Transform Hospital Group', 'CLOSED_TEMPORARILY', {'lat': 50.91155999999999, 'lng': -1.401964}, 2)\n",
      "('Transform Medical Group', 'OPERATIONAL', {'lat': 50.91155999999999, 'lng': -1.401964}, None)\n",
      "('Southampton Knee Clinic', 'OPERATIONAL', {'lat': 50.931102, 'lng': -1.4335384}, None)\n",
      "('Atlantic Clinic- Polski Lekarz, Stomatolog, Ginekolog Southampton', 'OPERATIONAL', {'lat': 50.9082016, 'lng': -1.4181755}, 3.9)\n",
      "('Solent Medical Services Within Royal South Hants Hospital', 'OPERATIONAL', {'lat': 50.9120621, 'lng': -1.3994082}, None)\n",
      "('osteopathineastleigh.com contact', 'OPERATIONAL', {'lat': 50.9097004, 'lng': -1.4043509}, None)\n",
      "('UHS Pathology', 'OPERATIONAL', {'lat': 50.93326109999999, 'lng': -1.4344399}, None)\n",
      "('Royal South Hants Hospital', 'OPERATIONAL', {'lat': 50.9123037, 'lng': -1.3962672}, 4.4)\n",
      "('Medisec Ambulance', 'OPERATIONAL', {'lat': 50.9143026, 'lng': -1.3905002}, 5)\n",
      "('Ocean Medical Services (South) Limited', 'OPERATIONAL', {'lat': 50.8977055, 'lng': -1.4035972}, 4)\n",
      "('College Keep', 'OPERATIONAL', {'lat': 50.8984584, 'lng': -1.3967791}, 3.3)\n",
      "('Ladies Walk Practice (Branch Site)', 'OPERATIONAL', {'lat': 50.9267858, 'lng': -1.3649903}, 2.4)\n",
      "('The Old Fire Station Surgery', 'OPERATIONAL', {'lat': 50.89695209999999, 'lng': -1.3717681}, 3.2)\n",
      "('T Q Twentyone', 'OPERATIONAL', {'lat': 50.9079684, 'lng': -1.5011049}, None)\n",
      "('Life Line Screening', 'OPERATIONAL', {'lat': 50.916954, 'lng': -1.514221}, None)\n",
      "('Life Line Screening', 'OPERATIONAL', {'lat': 50.9873925, 'lng': -1.3866534}, None)\n",
      "('Dr Goodison & Partners', 'OPERATIONAL', {'lat': 50.87599240000001, 'lng': -1.3272662}, 1)\n",
      "('Bluebird House', 'OPERATIONAL', {'lat': 50.93035279999999, 'lng': -1.5283987}, 5)\n",
      "('Life Line Screening', 'OPERATIONAL', {'lat': 50.95235419999999, 'lng': -1.5376559}, None)\n",
      "('Practice Plus Group Hospital, Southampton', 'OPERATIONAL', {'lat': 50.912205, 'lng': -1.3960736}, 4)\n",
      "('University Health Service', 'OPERATIONAL', {'lat': 50.93573089999999, 'lng': -1.3994347}, 3.3)\n",
      "('Western Community Hospital', 'OPERATIONAL', {'lat': 50.9243458, 'lng': -1.4454465}, 4.1)\n",
      "('Romsey Hospital', 'OPERATIONAL', {'lat': 50.9922356, 'lng': -1.4820262}, 4.1)\n",
      "('Hedge End Medical Centre', 'OPERATIONAL', {'lat': 50.9141084, 'lng': -1.3007612}, 3.7)\n",
      "('Hythe Hospital', 'OPERATIONAL', {'lat': 50.85856919999999, 'lng': -1.4033237}, 4.2)\n",
      "('Red and Green Practice', 'OPERATIONAL', {'lat': 50.8585636, 'lng': -1.4046656}, 2.8)\n",
      "('Old Anchor Surgery', 'OPERATIONAL', {'lat': 50.9712237, 'lng': -1.3373104}, 4)\n",
      "('Archers Practice', 'OPERATIONAL', {'lat': 50.970948, 'lng': -1.3531405}, 2.1)\n",
      "('Adelaide centre', 'OPERATIONAL', {'lat': 50.92114280000001, 'lng': -1.4219211}, None)\n",
      "('Veincentre', 'OPERATIONAL', {'lat': 50.9194615, 'lng': -1.4046303}, 5)\n",
      "('optical express', 'OPERATIONAL', {'lat': 50.91840910000001, 'lng': -1.4029651}, None)\n",
      "('Occupational Health', 'OPERATIONAL', {'lat': 50.93170989999999, 'lng': -1.432138}, 5)\n",
      "('Training & Development Dept Within Southampton General Hospital', 'OPERATIONAL', {'lat': 50.9300696, 'lng': -1.4343797}, None)\n",
      "('Mr Michael Van den Bossche', 'OPERATIONAL', {'lat': 50.9302437, 'lng': -1.4343597}, None)\n",
      "('Burlsedon House', 'OPERATIONAL', {'lat': 50.9310687, 'lng': -1.4336528}, 5)\n",
      "('Chirurgia naczyniowa', 'OPERATIONAL', {'lat': 50.9081982, 'lng': -1.4179395}, None)\n",
      "('Eye Clinic', 'OPERATIONAL', {'lat': 50.9318362, 'lng': -1.433455}, 3.7)\n",
      "('Eye hospital', 'OPERATIONAL', {'lat': 50.931924, 'lng': -1.4335007}, None)\n",
      "('Eye Unit, Southampton Gen Hosp', 'OPERATIONAL', {'lat': 50.93202100000001, 'lng': -1.4336425}, 4.3)\n",
      "('Southampton Hospital', 'OPERATIONAL', {'lat': 50.9120564, 'lng': -1.3994276}, 5)\n",
      "('Woodley Road', 'OPERATIONAL', {'lat': 50.9097004, 'lng': -1.4043509}, None)\n",
      "('Mitel BOX', 'OPERATIONAL', {'lat': 50.9097004, 'lng': -1.4043509}, None)\n"
     ]
    }
   ],
   "source": [
    "for place in hospital_result:\n",
    "    print(place)"
   ]
  },
  {
   "cell_type": "code",
   "execution_count": 11,
   "id": "048e6f40",
   "metadata": {},
   "outputs": [
    {
     "data": {
      "text/plain": [
       "60"
      ]
     },
     "execution_count": 11,
     "metadata": {},
     "output_type": "execute_result"
    }
   ],
   "source": [
    "len(hospital_result)"
   ]
  },
  {
   "cell_type": "code",
   "execution_count": 12,
   "id": "8100a086",
   "metadata": {},
   "outputs": [
    {
     "name": "stdout",
     "output_type": "stream",
     "text": [
      "('Spire Southampton Hospital', 'OPERATIONAL', {'lat': 50.9307722, 'lng': -1.432086}, 3.8)\n"
     ]
    }
   ],
   "source": [
    "print(hospital_result[0])"
   ]
  },
  {
   "cell_type": "code",
   "execution_count": 13,
   "id": "2e0f0417",
   "metadata": {},
   "outputs": [
    {
     "name": "stdout",
     "output_type": "stream",
     "text": [
      "Spire Southampton Hospital\n"
     ]
    }
   ],
   "source": [
    "print(hospital_result[0][0])"
   ]
  },
  {
   "cell_type": "code",
   "execution_count": 14,
   "id": "f6875a1c",
   "metadata": {},
   "outputs": [
    {
     "name": "stdout",
     "output_type": "stream",
     "text": [
      "{'lat': 50.9307722, 'lng': -1.432086}\n"
     ]
    }
   ],
   "source": [
    "print(hospital_result[0][2])"
   ]
  },
  {
   "cell_type": "code",
   "execution_count": 15,
   "id": "f8c71c98",
   "metadata": {},
   "outputs": [
    {
     "name": "stdout",
     "output_type": "stream",
     "text": [
      "5\n"
     ]
    }
   ],
   "source": [
    "for place in train_result:\n",
    "    a = place[2]\n",
    "print(len(train_result))"
   ]
  },
  {
   "cell_type": "code",
   "execution_count": 16,
   "id": "18a6f45f",
   "metadata": {},
   "outputs": [],
   "source": [
    "supermarket_result = google_api.nearby_search(\n",
    "    50.922515,\n",
    "    -1.415893,\n",
    "    10000,\n",
    "    location_type='supermarket'\n",
    ")"
   ]
  },
  {
   "cell_type": "code",
   "execution_count": 17,
   "id": "a9536a48",
   "metadata": {},
   "outputs": [
    {
     "name": "stdout",
     "output_type": "stream",
     "text": [
      "('Asda Eastleigh Supercentre', 'OPERATIONAL', {'lat': 50.9673996, 'lng': -1.3903601}, 3.5)\n",
      "('ALDI', 'OPERATIONAL', {'lat': 50.9884425, 'lng': -1.4973328}, 4.1)\n",
      "(\"Sainsbury's\", 'OPERATIONAL', {'lat': 50.9236546, 'lng': -1.4338742}, 4)\n",
      "('Tesco Superstore', 'OPERATIONAL', {'lat': 50.9238648, 'lng': -1.4474876}, 4.1)\n",
      "('Waitrose & Partners Southampton', 'OPERATIONAL', {'lat': 50.9243383, 'lng': -1.3946755}, 4.3)\n",
      "('ALDI', 'OPERATIONAL', {'lat': 50.9176249, 'lng': -1.3952398}, 4.3)\n",
      "('Asda Southampton West End Supermarket', 'OPERATIONAL', {'lat': 50.92772309999999, 'lng': -1.3359517}, 3.9)\n",
      "('Marks and Spencer', 'OPERATIONAL', {'lat': 50.92055449999999, 'lng': -1.3133229}, 4.2)\n",
      "('Screwfix', 'OPERATIONAL', {'lat': 50.91754, 'lng': -1.4547366}, 4.3)\n",
      "('Lidl', 'OPERATIONAL', {'lat': 50.92001699999999, 'lng': -1.4313993}, 4.2)\n",
      "(\"Sainsbury's\", 'OPERATIONAL', {'lat': 50.94158930000001, 'lng': -1.4494626}, 4.1)\n",
      "('Tesco Esso Express', 'OPERATIONAL', {'lat': 50.91971819999999, 'lng': -1.3959646}, 3.4)\n",
      "(\"Waitrose & Partners Chandler's Ford\", 'OPERATIONAL', {'lat': 50.9872303, 'lng': -1.3739915}, 4.4)\n",
      "('Asda Southampton Superstore', 'OPERATIONAL', {'lat': 50.9061612, 'lng': -1.4072304}, 3.6)\n",
      "(\"Sainsbury's\", 'OPERATIONAL', {'lat': 50.9267292, 'lng': -1.3896189}, 4.3)\n",
      "('Tesco Extra', 'OPERATIONAL', {'lat': 50.8946696, 'lng': -1.3206161}, 3.8)\n",
      "('Londis', 'OPERATIONAL', {'lat': 50.9245005, 'lng': -1.381365}, 3)\n",
      "('Co-op', 'OPERATIONAL', {'lat': 50.8906797, 'lng': -1.4514446}, 3.9)\n",
      "('Tesco Express', 'OPERATIONAL', {'lat': 50.8967113, 'lng': -1.3928734}, 4.1)\n",
      "('Tesco Express', 'OPERATIONAL', {'lat': 50.9382205, 'lng': -1.3856151}, 3.9)\n",
      "('Tesco Express', 'OPERATIONAL', {'lat': 50.898681, 'lng': -1.348414}, 4.1)\n",
      "('Natasha Russian Shop', 'OPERATIONAL', {'lat': 50.9334456, 'lng': -1.3828455}, 4.6)\n",
      "(\"Sainsbury's Local\", 'OPERATIONAL', {'lat': 50.9338315, 'lng': -1.4191242}, 4)\n",
      "(\"Sainsbury's Local\", 'OPERATIONAL', {'lat': 50.9124173, 'lng': -1.4061639}, 4)\n",
      "('Tesco Express', 'OPERATIONAL', {'lat': 50.9116726, 'lng': -1.4037609}, 3.4)\n",
      "('Premier Express', 'OPERATIONAL', {'lat': 50.90901909999999, 'lng': -1.4134014}, 3.2)\n",
      "('Marks and Spencer', 'OPERATIONAL', {'lat': 50.9323804, 'lng': -1.4347876}, 3.7)\n",
      "('Tesco Express', 'OPERATIONAL', {'lat': 50.9398142, 'lng': -1.4275172}, 4.2)\n",
      "('Little Waitrose & Partners Little WR in JL Southampton', 'OPERATIONAL', {'lat': 50.904246, 'lng': -1.4076878}, 4.3)\n",
      "('Tesco Scan As You Shop', 'OPERATIONAL', {'lat': 50.9237256, 'lng': -1.4472073}, 4.1)\n",
      "('Marks and Spencer', 'OPERATIONAL', {'lat': 50.9029796, 'lng': -1.407304}, 4.2)\n",
      "('Asian supermarket.', 'OPERATIONAL', {'lat': 50.9023085, 'lng': -1.4048879}, 4.2)\n",
      "('Tesco Express', 'OPERATIONAL', {'lat': 50.90214150000001, 'lng': -1.4045004}, 3.8)\n",
      "(\"Sainsbury's Local\", 'OPERATIONAL', {'lat': 50.9383398, 'lng': -1.3908694}, 4.2)\n",
      "('Lidl', 'OPERATIONAL', {'lat': 50.9013736, 'lng': -1.4038695}, 4.2)\n",
      "('Yau Brothers', 'OPERATIONAL', {'lat': 50.91197510000001, 'lng': -1.3843586}, 4.5)\n",
      "('Tesco Express', 'OPERATIONAL', {'lat': 50.9315314, 'lng': -1.4498082}, 4.3)\n",
      "('Romanian&Eastern European Store', 'OPERATIONAL', {'lat': 50.901134, 'lng': -1.4011893}, 4.5)\n",
      "('Tesco Express', 'OPERATIONAL', {'lat': 50.9262348, 'lng': -1.3648369}, 3.9)\n",
      "('Londis', 'OPERATIONAL', {'lat': 50.96213419999999, 'lng': -1.3529204}, 3.9)\n",
      "('Lidl', 'OPERATIONAL', {'lat': 50.89545409999999, 'lng': -1.3796306}, 4.2)\n",
      "('Lidl', 'OPERATIONAL', {'lat': 50.91801820000001, 'lng': -1.485956}, 4.2)\n",
      "('Tesco Express', 'OPERATIONAL', {'lat': 50.91477700000001, 'lng': -1.3392404}, 3.5)\n",
      "('Lidl', 'OPERATIONAL', {'lat': 50.9068248, 'lng': -1.3381915}, 4)\n",
      "('Londis', 'OPERATIONAL', {'lat': 50.92759909999999, 'lng': -1.3343759}, 4.4)\n",
      "('Home Bargains', 'OPERATIONAL', {'lat': 50.9733988, 'lng': -1.3688309}, 4.3)\n",
      "('Tesco Petrol Station', 'OPERATIONAL', {'lat': 50.8643969, 'lng': -1.4326026}, 4)\n",
      "(\"Sainsbury's\", 'OPERATIONAL', {'lat': 50.9697723, 'lng': -1.3522108}, 4)\n",
      "('Tesco Express', 'OPERATIONAL', {'lat': 50.8609498, 'lng': -1.4004242}, 4.4)\n",
      "('Lidl', 'OPERATIONAL', {'lat': 50.97067680000001, 'lng': -1.3498864}, 4.1)\n",
      "('M&S Foodhall', 'OPERATIONAL', {'lat': 50.971625, 'lng': -1.35039}, 4.3)\n",
      "('The Food Barn', 'OPERATIONAL', {'lat': 50.9306024, 'lng': -1.4589689}, 3.8)\n",
      "('Tesco Petrol Station', 'OPERATIONAL', {'lat': 50.8933821, 'lng': -1.3207699}, 4)\n",
      "('Tesco Grocery Click & Collect', 'OPERATIONAL', {'lat': 50.8933972, 'lng': -1.3197147}, 4.3)\n",
      "('Tesco Express', 'OPERATIONAL', {'lat': 50.97001189999999, 'lng': -1.3386736}, 4.2)\n",
      "('Central Convenience Stores', 'OPERATIONAL', {'lat': 50.9708106, 'lng': -1.3364885}, 3.5)\n",
      "('Co-op Food', 'OPERATIONAL', {'lat': 50.89467540000001, 'lng': -1.5175241}, 4)\n",
      "('Morrisons', 'OPERATIONAL', {'lat': 50.92229, 'lng': -1.523509}, 3.9)\n",
      "('Asda Totton Superstore', 'OPERATIONAL', {'lat': 50.9182497, 'lng': -1.4888277}, 3.7)\n",
      "('Tesco Express', 'OPERATIONAL', {'lat': 50.9186869, 'lng': -1.4559005}, 4.4)\n"
     ]
    }
   ],
   "source": [
    "for place in supermarket_result:\n",
    "    print(place)"
   ]
  },
  {
   "cell_type": "code",
   "execution_count": 18,
   "id": "4d70fea5",
   "metadata": {},
   "outputs": [
    {
     "name": "stdout",
     "output_type": "stream",
     "text": [
      "{'lat': 50.9673996, 'lng': -1.3903601}\n"
     ]
    }
   ],
   "source": [
    "print(supermarket_result[0][2])"
   ]
  },
  {
   "cell_type": "code",
   "execution_count": 19,
   "id": "faad7ff6",
   "metadata": {},
   "outputs": [
    {
     "name": "stdout",
     "output_type": "stream",
     "text": [
      "50.9673996\n"
     ]
    }
   ],
   "source": [
    "print(supermarket_result[0][2]['lat'])"
   ]
  },
  {
   "cell_type": "code",
   "execution_count": null,
   "id": "75b8a389",
   "metadata": {},
   "outputs": [],
   "source": []
  },
  {
   "cell_type": "code",
   "execution_count": null,
   "id": "147f0e2d",
   "metadata": {},
   "outputs": [],
   "source": []
  },
  {
   "cell_type": "code",
   "execution_count": null,
   "id": "29555f50",
   "metadata": {},
   "outputs": [],
   "source": []
  }
 ],
 "metadata": {
  "kernelspec": {
   "display_name": "Python 3",
   "language": "python",
   "name": "python3"
  },
  "language_info": {
   "codemirror_mode": {
    "name": "ipython",
    "version": 3
   },
   "file_extension": ".py",
   "mimetype": "text/x-python",
   "name": "python",
   "nbconvert_exporter": "python",
   "pygments_lexer": "ipython3",
   "version": "3.6.13"
  }
 },
 "nbformat": 4,
 "nbformat_minor": 5
}
