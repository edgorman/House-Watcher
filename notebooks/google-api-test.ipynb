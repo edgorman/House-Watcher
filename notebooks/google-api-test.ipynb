{
 "cells": [
  {
   "cell_type": "markdown",
   "id": "eecfdcdb",
   "metadata": {},
   "source": [
    "# Google API Tests"
   ]
  },
  {
   "cell_type": "code",
   "execution_count": 1,
   "id": "afda1c71",
   "metadata": {},
   "outputs": [],
   "source": [
    "import sys"
   ]
  },
  {
   "cell_type": "code",
   "execution_count": 2,
   "id": "1d4f037c",
   "metadata": {
    "scrolled": true
   },
   "outputs": [],
   "source": [
    "sys.path.append('../property-fundamentals')\n",
    "from google_api.api import API"
   ]
  },
  {
   "cell_type": "code",
   "execution_count": 3,
   "id": "fbfe8f0c",
   "metadata": {},
   "outputs": [],
   "source": [
    "google_api = API(key_path=\"../property-fundamentals/google_api/key.txt\")"
   ]
  },
  {
   "cell_type": "code",
   "execution_count": 4,
   "id": "a7fde42c",
   "metadata": {},
   "outputs": [],
   "source": [
    "response = google_api.find_place_from_text(\"Museum of Contemporary Art Australia\")"
   ]
  },
  {
   "cell_type": "code",
   "execution_count": 5,
   "id": "a2d02d92",
   "metadata": {
    "scrolled": true
   },
   "outputs": [
    {
     "data": {
      "text/plain": [
       "{'candidates': [{'place_id': 'ChIJ68aBlEKuEmsRHUA9oME5Zh0'}], 'status': 'OK'}"
      ]
     },
     "execution_count": 5,
     "metadata": {},
     "output_type": "execute_result"
    }
   ],
   "source": [
    "response"
   ]
  },
  {
   "cell_type": "markdown",
   "id": "7951743c",
   "metadata": {},
   "source": [
    "#### Warning: The below request will charge 2p every time it is ran"
   ]
  },
  {
   "cell_type": "code",
   "execution_count": 6,
   "id": "59323652",
   "metadata": {
    "scrolled": true
   },
   "outputs": [
    {
     "data": {
      "text/plain": [
       "['accounting',\n",
       " 'airport',\n",
       " 'amusement_park',\n",
       " 'aquarium',\n",
       " 'art_gallery',\n",
       " 'atm',\n",
       " 'bakery',\n",
       " 'bank',\n",
       " 'bar',\n",
       " 'beauty_salon',\n",
       " 'bicycle_store',\n",
       " 'book_store',\n",
       " 'bowling_alley',\n",
       " 'bus_station',\n",
       " 'cafe',\n",
       " 'campground',\n",
       " 'car_dealer',\n",
       " 'car_rental',\n",
       " 'car_repair',\n",
       " 'car_wash',\n",
       " 'casino',\n",
       " 'cemetery',\n",
       " 'church',\n",
       " 'city_hall',\n",
       " 'clothing_store',\n",
       " 'convenience_store',\n",
       " 'courthouse',\n",
       " 'dentist',\n",
       " 'department_store',\n",
       " 'doctor',\n",
       " 'drugstore',\n",
       " 'electrician',\n",
       " 'electronics_store',\n",
       " 'embassy',\n",
       " 'fire_station',\n",
       " 'florist',\n",
       " 'funeral_home',\n",
       " 'furniture_store',\n",
       " 'gas_station',\n",
       " 'gym',\n",
       " 'hair_care',\n",
       " 'hardware_store',\n",
       " 'hindu_temple',\n",
       " 'home_goods_store',\n",
       " 'hospital',\n",
       " 'insurance_agency',\n",
       " 'jewelry_store',\n",
       " 'laundry',\n",
       " 'lawyer',\n",
       " 'library',\n",
       " 'light_rail_station',\n",
       " 'liquor_store',\n",
       " 'local_government_office',\n",
       " 'locksmith',\n",
       " 'lodging',\n",
       " 'meal_delivery',\n",
       " 'meal_takeaway',\n",
       " 'mosque',\n",
       " 'movie_rental',\n",
       " 'movie_theater',\n",
       " 'moving_company',\n",
       " 'museum',\n",
       " 'night_club',\n",
       " 'painter',\n",
       " 'park',\n",
       " 'parking',\n",
       " 'pet_store',\n",
       " 'pharmacy',\n",
       " 'physiotherapist',\n",
       " 'plumber',\n",
       " 'police',\n",
       " 'post_office',\n",
       " 'primary_school',\n",
       " 'real_estate_agency',\n",
       " 'restaurant',\n",
       " 'roofing_contractor',\n",
       " 'rv_park',\n",
       " 'school',\n",
       " 'secondary_school',\n",
       " 'shoe_store',\n",
       " 'shopping_mall',\n",
       " 'spa',\n",
       " 'stadium',\n",
       " 'storage',\n",
       " 'store',\n",
       " 'subway_station',\n",
       " 'supermarket',\n",
       " 'synagogue',\n",
       " 'taxi_stand',\n",
       " 'tourist_attraction',\n",
       " 'train_station',\n",
       " 'transit_station',\n",
       " 'travel_agency',\n",
       " 'university',\n",
       " 'veterinary_care',\n",
       " 'zoo']"
      ]
     },
     "execution_count": 6,
     "metadata": {},
     "output_type": "execute_result"
    }
   ],
   "source": [
    "google_api.get_place_types()"
   ]
  },
  {
   "cell_type": "code",
   "execution_count": 8,
   "id": "bd9ee976",
   "metadata": {
    "scrolled": false
   },
   "outputs": [],
   "source": [
    "train_result = google_api.nearby_search(\n",
    "    50.922515,\n",
    "    -1.415893,\n",
    "    10000,\n",
    "    location_type='university'\n",
    ")"
   ]
  },
  {
   "cell_type": "code",
   "execution_count": 9,
   "id": "ced69a3d",
   "metadata": {},
   "outputs": [
    {
     "name": "stdout",
     "output_type": "stream",
     "text": [
      "('University of Southampton Highfield Campus', 'OPERATIONAL', {'lat': 50.935742, 'lng': -1.3966381}, 4.6)\n",
      "('City College Southampton', 'OPERATIONAL', {'lat': 50.9037234, 'lng': -1.3957679}, 3.5)\n",
      "('Totton College', 'OPERATIONAL', {'lat': 50.92091629999999, 'lng': -1.5086717}, 4.3)\n",
      "('Solent University', 'OPERATIONAL', {'lat': 50.90832049999999, 'lng': -1.4003801}, 4.1)\n",
      "('Avenue Campus', 'OPERATIONAL', {'lat': 50.9287637, 'lng': -1.4024471}, 4.3)\n",
      "('Eastleigh College', 'OPERATIONAL', {'lat': 50.9614868, 'lng': -1.3587508}, 2.9)\n",
      "('Itchen Sixth Form College', 'OPERATIONAL', {'lat': 50.9087081, 'lng': -1.3583035}, 4.2)\n",
      "('University of Southampton School of Medicine', 'OPERATIONAL', {'lat': 50.9365797, 'lng': -1.3960169}, 3.7)\n",
      "('Wyvern College', 'OPERATIONAL', {'lat': 50.9607079, 'lng': -1.2965922}, 3.6)\n",
      "('Stagecoach Performing Arts Totton', 'OPERATIONAL', {'lat': 50.9253782, 'lng': -1.492457}, 5)\n",
      "('Lydlynch Pre-School', 'OPERATIONAL', {'lat': 50.9181381, 'lng': -1.4968449}, 5)\n",
      "('New Career Skills', 'OPERATIONAL', {'lat': 50.9765363, 'lng': -1.3901611}, 4.3)\n",
      "('Hearing and Balance Centre', 'OPERATIONAL', {'lat': 50.9356812, 'lng': -1.3933647}, None)\n",
      "('The Wessex Institute for Health Research & Development', 'OPERATIONAL', {'lat': 50.9611298, 'lng': -1.4253876}, None)\n",
      "('JDRF', 'OPERATIONAL', {'lat': 50.9694393, 'lng': -1.3551661}, None)\n",
      "(\"Helen O'Grady Drama Academy Dorset\", 'OPERATIONAL', {'lat': 50.98039900000001, 'lng': -1.395794}, 5)\n",
      "('Theatretrain Southampton', 'OPERATIONAL', {'lat': 50.9266898, 'lng': -1.4160257}, 5)\n",
      "('ICCH', 'OPERATIONAL', {'lat': 50.9195545, 'lng': -1.404677}, None)\n",
      "('Kumon Maths & English', 'OPERATIONAL', {'lat': 50.9224667, 'lng': -1.4329176}, 4.9)\n",
      "('Human Factors in Transport Research', 'OPERATIONAL', {'lat': 50.9366425, 'lng': -1.4046417}, None)\n",
      "('Boldrewood Innovation Campus', 'OPERATIONAL', {'lat': 50.9371957, 'lng': -1.4047795}, 4.6)\n",
      "('Centre for Learning Anatomical Sciences (CLAS)', 'OPERATIONAL', {'lat': 50.93248449999999, 'lng': -1.4366069}, None)\n",
      "('Solent Conference Centre', 'OPERATIONAL', {'lat': 50.908742, 'lng': -1.400914}, 5)\n",
      "('Southampton Business School', 'OPERATIONAL', {'lat': 50.9363074, 'lng': -1.3980476}, 5)\n",
      "('µ-VIS X-ray Imaging Centre (5)', 'OPERATIONAL', {'lat': 50.9357754, 'lng': -1.3948184}, None)\n",
      "('Institute of Sound & Vibration Research', 'OPERATIONAL', {'lat': 50.9352217, 'lng': -1.3937373}, 4.8)\n",
      "('Nido - The Walls - Student Accommodation Southampton', 'OPERATIONAL', {'lat': 50.89953839999999, 'lng': -1.4019922}, 3.5)\n",
      "(\"Warsash Maritime Academy, St Mary's campus\", 'OPERATIONAL', {'lat': 50.9024384, 'lng': -1.3934325}, 3.8)\n",
      "('Acting UP Drama Classes', 'OPERATIONAL', {'lat': 50.91783409999999, 'lng': -1.3734947}, None)\n",
      "('Acting UP Drama Classes', 'OPERATIONAL', {'lat': 50.902992, 'lng': -1.375716}, None)\n",
      "('UK Film Academy', 'OPERATIONAL', {'lat': 50.92298199999999, 'lng': -1.46689}, None)\n",
      "('National Oceanography Centre', 'OPERATIONAL', {'lat': 50.8930253, 'lng': -1.3948514}, 4.7)\n",
      "('Solent', 'OPERATIONAL', {'lat': 50.9154831, 'lng': -1.3444714}, None)\n",
      "('Harvey Kerr', 'OPERATIONAL', {'lat': 50.86758829999999, 'lng': -1.3980701}, None)\n",
      "('The Pauline Quirke Academy of Performing Arts Eastleigh', 'OPERATIONAL', {'lat': 50.9627742, 'lng': -1.3673564}, None)\n",
      "('Kumon Maths & English', 'OPERATIONAL', {'lat': 50.9828566, 'lng': -1.3826177}, 5)\n",
      "('Eastleigh College Cranbury Centre', 'OPERATIONAL', {'lat': 50.9654002, 'lng': -1.3564333}, 4.5)\n",
      "('The Military Preparation College', 'OPERATIONAL', {'lat': 50.92156800000001, 'lng': -1.508584}, 3)\n",
      "('Artisan Theatre School', 'OPERATIONAL', {'lat': 50.8887092, 'lng': -1.3119973}, 5)\n",
      "('Hamble Centre of Excellence', 'OPERATIONAL', {'lat': 50.87365689999999, 'lng': -1.325987}, 4)\n",
      "('Regents Park Community College', 'OPERATIONAL', {'lat': 50.9227647, 'lng': -1.4422723}, 3.3)\n",
      "('Laboratories for Hybrid Optoelectronics', 'OPERATIONAL', {'lat': 50.9346369, 'lng': -1.3999117}, 5)\n",
      "('Perform Within United Abbey Reform Church', 'OPERATIONAL', {'lat': 50.9888026, 'lng': -1.5006307}, None)\n",
      "('Kaplan Southampton', 'OPERATIONAL', {'lat': 50.9079284, 'lng': -1.4084961}, 4.8)\n",
      "('LLAS Centre for Languages, Linguistics and Area Studies', 'OPERATIONAL', {'lat': 50.9286712, 'lng': -1.4031652}, 4)\n",
      "('Acting UP Drama Classes', 'OPERATIONAL', {'lat': 50.85907719999999, 'lng': -1.3195146}, None)\n",
      "('TEG English Southampton', 'OPERATIONAL', {'lat': 50.9107505, 'lng': -1.404418}, 4.7)\n",
      "('University of Southampton, Health Sciences (67)', 'OPERATIONAL', {'lat': 50.9367135, 'lng': -1.3966002}, 3.8)\n",
      "('Adult Education Centre', 'OPERATIONAL', {'lat': 50.9936516, 'lng': -1.5011148}, None)\n",
      "('GeoData Institute', 'OPERATIONAL', {'lat': 50.934558, 'lng': -1.398568}, 5)\n",
      "('Research Institute for Industry', 'OPERATIONAL', {'lat': 50.9348845, 'lng': -1.3935087}, None)\n",
      "('Gantry Youth Theatre', 'OPERATIONAL', {'lat': 50.9301173, 'lng': -1.3691603}, 5)\n",
      "('Academy of Music & Sound', 'OPERATIONAL', {'lat': 50.90194409999999, 'lng': -1.403821}, 3)\n",
      "('Stagecoach Performing Arts Southampton', 'OPERATIONAL', {'lat': 50.92290649999999, 'lng': -1.416827}, 5)\n",
      "('Institute for Complex Systems Simulation', 'OPERATIONAL', {'lat': 50.9376617, 'lng': -1.3956714}, None)\n",
      "('Kumon Maths & English', 'OPERATIONAL', {'lat': 50.9706822, 'lng': -1.3702053}, 4.5)\n",
      "('Warsash superyacht safety training', 'OPERATIONAL', {'lat': 50.9077148, 'lng': -1.4011194}, 2.6)\n",
      "('Sound Pop Academy', 'OPERATIONAL', {'lat': 50.92621639999999, 'lng': -1.4169911}, 5)\n",
      "('Perform Southampton', 'OPERATIONAL', {'lat': 50.9300084, 'lng': -1.395619}, None)\n",
      "('Kumon Maths & English', 'OPERATIONAL', {'lat': 50.9300084, 'lng': -1.395619}, None)\n"
     ]
    }
   ],
   "source": [
    "for place in train_result:\n",
    "    print(place)"
   ]
  },
  {
   "cell_type": "code",
   "execution_count": 9,
   "id": "c0850cc8",
   "metadata": {
    "scrolled": false
   },
   "outputs": [],
   "source": [
    "hospital_result = google_api.nearby_search(\n",
    "    50.922515,\n",
    "    -1.415893,\n",
    "    10000,\n",
    "    location_type='hospital'\n",
    ")"
   ]
  },
  {
   "cell_type": "code",
   "execution_count": 10,
   "id": "76548aa4",
   "metadata": {},
   "outputs": [
    {
     "name": "stdout",
     "output_type": "stream",
     "text": [
      "('Spire Southampton Hospital', 'OPERATIONAL', {'lat': 50.9307722, 'lng': -1.432086}, 3.7)\n",
      "('Princess Anne Hospital', 'OPERATIONAL', {'lat': 50.9353552, 'lng': -1.4348528}, 3.9)\n",
      "('Priory Hospital Southampton', 'OPERATIONAL', {'lat': 50.8810228, 'lng': -1.4450834}, 3.5)\n",
      "('Woolston Lodge Surgery', 'OPERATIONAL', {'lat': 50.897129, 'lng': -1.3720927}, 2.5)\n",
      "('Nuffield Health Wessex Hospital', 'OPERATIONAL', {'lat': 50.99713180000001, 'lng': -1.3585932}, 4.6)\n",
      "('Solent Medical Services Eye Clinic', 'OPERATIONAL', {'lat': 50.9135655, 'lng': -1.398441}, 4)\n",
      "(\"St Peter's Surgery\", 'OPERATIONAL', {'lat': 50.8977513, 'lng': -1.3727824}, 3.4)\n",
      "('Wessex Hepatobiliary Surgery', 'OPERATIONAL', {'lat': 50.930393, 'lng': -1.432942999999999}, None)\n",
      "('Team Medical', 'OPERATIONAL', {'lat': 50.9210695, 'lng': -1.4673965}, 5)\n",
      "('Life Line Screening', 'OPERATIONAL', {'lat': 50.9156401, 'lng': -1.4109365}, None)\n",
      "('Cypher Information Technology Ltd', 'OPERATIONAL', {'lat': 50.9099878, 'lng': -1.4077937}, 5)\n",
      "('Life Line Screening', 'OPERATIONAL', {'lat': 50.9272065, 'lng': -1.3313144}, None)\n",
      "('Life Line Screening', 'OPERATIONAL', {'lat': 50.9670769, 'lng': -1.3736024}, None)\n",
      "('Forest Lodge', 'OPERATIONAL', {'lat': 50.9192804, 'lng': -1.4058547}, None)\n",
      "('Ultralase', 'OPERATIONAL', {'lat': 50.9193575, 'lng': -1.4049456}, None)\n",
      "('Wessex Cardiology Within Spire Southampton Hospital', 'OPERATIONAL', {'lat': 50.9302278, 'lng': -1.4329653}, None)\n",
      "('Southampton Paediatric Respiratory Clinic', 'OPERATIONAL', {'lat': 50.93034859999999, 'lng': -1.4326675}, None)\n",
      "('Wessex Medical Trust', 'OPERATIONAL', {'lat': 50.9308303, 'lng': -1.4334208}, None)\n",
      "('Transform Hospital Group', 'CLOSED_TEMPORARILY', {'lat': 50.91155999999999, 'lng': -1.401964}, 2)\n",
      "('Transform Medical Group', 'OPERATIONAL', {'lat': 50.91155999999999, 'lng': -1.401964}, None)\n",
      "('Southampton Knee Clinic', 'OPERATIONAL', {'lat': 50.931102, 'lng': -1.4335384}, None)\n",
      "('Atlantic Clinic- Polski Lekarz, Stomatolog, Ginekolog Southampton', 'OPERATIONAL', {'lat': 50.9082016, 'lng': -1.4181755}, 4)\n",
      "('Solent Medical Services Within Royal South Hants Hospital', 'OPERATIONAL', {'lat': 50.9120621, 'lng': -1.3994082}, None)\n",
      "('osteopathineastleigh.com contact', 'OPERATIONAL', {'lat': 50.9097004, 'lng': -1.4043509}, None)\n",
      "('UHS Pathology', 'OPERATIONAL', {'lat': 50.93326109999999, 'lng': -1.4344399}, None)\n",
      "('Royal South Hants Hospital', 'OPERATIONAL', {'lat': 50.9123037, 'lng': -1.3962672}, 4.4)\n",
      "('Medisec Ambulance', 'OPERATIONAL', {'lat': 50.9143026, 'lng': -1.3905002}, 5)\n",
      "('Ocean Medical Services (South) Limited', 'OPERATIONAL', {'lat': 50.8977055, 'lng': -1.4035972}, 4)\n",
      "('College Keep', 'OPERATIONAL', {'lat': 50.8984584, 'lng': -1.3967791}, 3.3)\n",
      "('Ladies Walk Practice (Branch Site)', 'OPERATIONAL', {'lat': 50.9267858, 'lng': -1.3649903}, 2.4)\n",
      "('The Old Fire Station Surgery', 'OPERATIONAL', {'lat': 50.89695209999999, 'lng': -1.3717681}, 3.3)\n",
      "('T Q Twentyone', 'OPERATIONAL', {'lat': 50.9079684, 'lng': -1.5011049}, None)\n",
      "('Life Line Screening', 'OPERATIONAL', {'lat': 50.916954, 'lng': -1.514221}, None)\n",
      "('Life Line Screening', 'OPERATIONAL', {'lat': 50.9873925, 'lng': -1.3866534}, None)\n",
      "('Dr Goodison & Partners', 'OPERATIONAL', {'lat': 50.87599240000001, 'lng': -1.3272662}, 1)\n",
      "('Bluebird House', 'OPERATIONAL', {'lat': 50.93035279999999, 'lng': -1.5283987}, 5)\n",
      "('Life Line Screening', 'OPERATIONAL', {'lat': 50.95235419999999, 'lng': -1.5376559}, None)\n",
      "('Practice Plus Group Hospital, Southampton', 'OPERATIONAL', {'lat': 50.912205, 'lng': -1.3960736}, 4.2)\n",
      "('University Health Service', 'OPERATIONAL', {'lat': 50.93573089999999, 'lng': -1.3994347}, 3.3)\n",
      "('Western Community Hospital', 'OPERATIONAL', {'lat': 50.9243458, 'lng': -1.4454465}, 4.1)\n",
      "('Romsey Hospital', 'OPERATIONAL', {'lat': 50.9922356, 'lng': -1.4820262}, 3.8)\n",
      "('Hedge End Medical Centre', 'OPERATIONAL', {'lat': 50.9141084, 'lng': -1.3007612}, 3.6)\n",
      "('Hythe Hospital', 'OPERATIONAL', {'lat': 50.85856919999999, 'lng': -1.4033237}, 4.2)\n",
      "('Red and Green Practice', 'OPERATIONAL', {'lat': 50.8585636, 'lng': -1.4046656}, 2.9)\n",
      "('Old Anchor Surgery', 'OPERATIONAL', {'lat': 50.9712237, 'lng': -1.3373104}, 4)\n",
      "('Archers Practice', 'OPERATIONAL', {'lat': 50.970948, 'lng': -1.3531405}, 2.1)\n",
      "('Adelaide centre', 'OPERATIONAL', {'lat': 50.9211795, 'lng': -1.4219607}, None)\n",
      "('Veincentre', 'OPERATIONAL', {'lat': 50.9194615, 'lng': -1.4046303}, None)\n",
      "('optical express', 'OPERATIONAL', {'lat': 50.91840910000001, 'lng': -1.4029651}, None)\n",
      "('Occupational Health', 'OPERATIONAL', {'lat': 50.93170989999999, 'lng': -1.432138}, 5)\n",
      "('Training & Development Dept Within Southampton General Hospital', 'OPERATIONAL', {'lat': 50.9300696, 'lng': -1.4343797}, None)\n",
      "('Mr Michael Van den Bossche', 'OPERATIONAL', {'lat': 50.9302437, 'lng': -1.4343597}, None)\n",
      "('Burlsedon House', 'OPERATIONAL', {'lat': 50.9310687, 'lng': -1.4336528}, 5)\n",
      "('Chirurgia naczyniowa', 'OPERATIONAL', {'lat': 50.9081982, 'lng': -1.4179395}, None)\n",
      "('Eye Clinic', 'OPERATIONAL', {'lat': 50.9318362, 'lng': -1.433455}, 3.7)\n",
      "('Eye hospital', 'OPERATIONAL', {'lat': 50.931924, 'lng': -1.4335007}, None)\n",
      "('Eye Unit, Southampton Gen Hosp', 'OPERATIONAL', {'lat': 50.93202100000001, 'lng': -1.4336425}, 4.2)\n",
      "('Southampton Hospital', 'OPERATIONAL', {'lat': 50.9120564, 'lng': -1.3994276}, 5)\n",
      "('Woodley Road', 'OPERATIONAL', {'lat': 50.9097004, 'lng': -1.4043509}, None)\n",
      "('Mitel BOX', 'OPERATIONAL', {'lat': 50.9097004, 'lng': -1.4043509}, None)\n"
     ]
    }
   ],
   "source": [
    "for place in hospital_result:\n",
    "    print(place)"
   ]
  },
  {
   "cell_type": "code",
   "execution_count": 11,
   "id": "048e6f40",
   "metadata": {},
   "outputs": [
    {
     "data": {
      "text/plain": [
       "60"
      ]
     },
     "execution_count": 11,
     "metadata": {},
     "output_type": "execute_result"
    }
   ],
   "source": [
    "len(hospital_result)"
   ]
  },
  {
   "cell_type": "code",
   "execution_count": 12,
   "id": "8100a086",
   "metadata": {},
   "outputs": [
    {
     "name": "stdout",
     "output_type": "stream",
     "text": [
      "('Spire Southampton Hospital', 'OPERATIONAL', {'lat': 50.9307722, 'lng': -1.432086}, 3.7)\n"
     ]
    }
   ],
   "source": [
    "print(hospital_result[0])"
   ]
  },
  {
   "cell_type": "code",
   "execution_count": 13,
   "id": "2e0f0417",
   "metadata": {},
   "outputs": [
    {
     "name": "stdout",
     "output_type": "stream",
     "text": [
      "Spire Southampton Hospital\n"
     ]
    }
   ],
   "source": [
    "print(hospital_result[0][0])"
   ]
  },
  {
   "cell_type": "code",
   "execution_count": 14,
   "id": "f6875a1c",
   "metadata": {},
   "outputs": [
    {
     "name": "stdout",
     "output_type": "stream",
     "text": [
      "{'lat': 50.9307722, 'lng': -1.432086}\n"
     ]
    }
   ],
   "source": [
    "print(hospital_result[0][2])"
   ]
  },
  {
   "cell_type": "code",
   "execution_count": 15,
   "id": "f8c71c98",
   "metadata": {},
   "outputs": [
    {
     "name": "stdout",
     "output_type": "stream",
     "text": [
      "19\n"
     ]
    }
   ],
   "source": [
    "for place in train_result:\n",
    "    a = place[2]\n",
    "print(len(train_result))"
   ]
  },
  {
   "cell_type": "code",
   "execution_count": 16,
   "id": "18a6f45f",
   "metadata": {},
   "outputs": [],
   "source": [
    "supermarket_result = google_api.nearby_search(\n",
    "    50.922515,\n",
    "    -1.415893,\n",
    "    10000,\n",
    "    location_type='supermarket'\n",
    ")"
   ]
  },
  {
   "cell_type": "code",
   "execution_count": 17,
   "id": "a9536a48",
   "metadata": {},
   "outputs": [
    {
     "name": "stdout",
     "output_type": "stream",
     "text": [
      "('Asda Eastleigh Supercentre', 'OPERATIONAL', {'lat': 50.9673996, 'lng': -1.3903601}, 3.5)\n",
      "('ALDI', 'OPERATIONAL', {'lat': 50.9884425, 'lng': -1.4973328}, 4.1)\n",
      "(\"Sainsbury's\", 'OPERATIONAL', {'lat': 50.9236546, 'lng': -1.4338742}, 4)\n",
      "('Tesco Superstore', 'OPERATIONAL', {'lat': 50.9237905, 'lng': -1.4476279}, 4.1)\n",
      "('Waitrose & Partners Southampton', 'OPERATIONAL', {'lat': 50.9243383, 'lng': -1.3946755}, 4.4)\n",
      "('ALDI', 'OPERATIONAL', {'lat': 50.9176249, 'lng': -1.3952398}, 4.3)\n",
      "('Asda Southampton West End Supermarket', 'OPERATIONAL', {'lat': 50.92772309999999, 'lng': -1.3359517}, 4)\n",
      "('Marks and Spencer', 'OPERATIONAL', {'lat': 50.92107, 'lng': -1.3135457}, 4.2)\n",
      "('Lidl', 'OPERATIONAL', {'lat': 50.919728, 'lng': -1.4315822}, 4.2)\n",
      "(\"Sainsbury's\", 'OPERATIONAL', {'lat': 50.94158930000001, 'lng': -1.4494626}, 4.1)\n",
      "('Tesco Esso Express', 'OPERATIONAL', {'lat': 50.91971819999999, 'lng': -1.3959646}, 3.4)\n",
      "(\"Waitrose & Partners Chandler's Ford\", 'OPERATIONAL', {'lat': 50.9872303, 'lng': -1.3739915}, 4.4)\n",
      "('Asda Southampton Superstore', 'OPERATIONAL', {'lat': 50.9061612, 'lng': -1.4072304}, 3.6)\n",
      "(\"Sainsbury's\", 'OPERATIONAL', {'lat': 50.9267292, 'lng': -1.3896189}, 4.3)\n",
      "('Tesco Extra', 'OPERATIONAL', {'lat': 50.8946696, 'lng': -1.3206161}, 3.8)\n",
      "('Londis', 'OPERATIONAL', {'lat': 50.9245005, 'lng': -1.381365}, 3)\n",
      "('Co-op', 'OPERATIONAL', {'lat': 50.8906797, 'lng': -1.4514446}, 3.9)\n",
      "('Tesco Express', 'OPERATIONAL', {'lat': 50.8966534, 'lng': -1.3927662}, 4.1)\n",
      "('Tesco Express', 'OPERATIONAL', {'lat': 50.9383182, 'lng': -1.3855826}, 3.9)\n",
      "('Tesco Express', 'OPERATIONAL', {'lat': 50.8987595, 'lng': -1.3484509}, 4.1)\n",
      "('Natasha Russian Shop', 'OPERATIONAL', {'lat': 50.9334456, 'lng': -1.3828455}, 4.6)\n",
      "(\"Sainsbury's Local\", 'OPERATIONAL', {'lat': 50.9338315, 'lng': -1.4191242}, 4)\n",
      "(\"Sainsbury's Local\", 'OPERATIONAL', {'lat': 50.9124173, 'lng': -1.4061639}, 3.9)\n",
      "('Tesco Express', 'OPERATIONAL', {'lat': 50.91167739999999, 'lng': -1.4037086}, 3.4)\n",
      "('Premier Express', 'OPERATIONAL', {'lat': 50.90901909999999, 'lng': -1.4134014}, 3.4)\n",
      "('Marks and Spencer', 'OPERATIONAL', {'lat': 50.9323804, 'lng': -1.4347876}, 3.7)\n",
      "('Tesco Express', 'OPERATIONAL', {'lat': 50.9398142, 'lng': -1.4275172}, 4.2)\n",
      "('Little Waitrose & Partners Little WR in JL Southampton', 'OPERATIONAL', {'lat': 50.904246, 'lng': -1.4076878}, 4.2)\n",
      "('Tesco Scan As You Shop', 'OPERATIONAL', {'lat': 50.9237256, 'lng': -1.4472073}, 4.1)\n",
      "('Marks and Spencer', 'OPERATIONAL', {'lat': 50.9029796, 'lng': -1.407304}, 4.2)\n",
      "('Asian supermarket.', 'OPERATIONAL', {'lat': 50.9023085, 'lng': -1.4048879}, 4.3)\n",
      "('Tesco Express', 'OPERATIONAL', {'lat': 50.90214150000001, 'lng': -1.4045004}, 3.8)\n",
      "(\"Sainsbury's Local\", 'OPERATIONAL', {'lat': 50.9383398, 'lng': -1.3908694}, 4.1)\n",
      "('Lidl', 'OPERATIONAL', {'lat': 50.9013736, 'lng': -1.4038695}, 4.2)\n",
      "('Yau Brothers', 'OPERATIONAL', {'lat': 50.91197510000001, 'lng': -1.3843586}, 4.5)\n",
      "('Tesco Express', 'OPERATIONAL', {'lat': 50.9315314, 'lng': -1.4498082}, 4.3)\n",
      "('Romanian&Eastern European Store', 'OPERATIONAL', {'lat': 50.901134, 'lng': -1.4011893}, 4.6)\n",
      "('Tesco Express', 'OPERATIONAL', {'lat': 50.92624199999999, 'lng': -1.3648011}, 3.9)\n",
      "('Londis', 'OPERATIONAL', {'lat': 50.96213419999999, 'lng': -1.3529204}, 4)\n",
      "('Lidl', 'OPERATIONAL', {'lat': 50.89545409999999, 'lng': -1.3796306}, 4.2)\n",
      "('Lidl', 'OPERATIONAL', {'lat': 50.91801820000001, 'lng': -1.485956}, 4.2)\n",
      "('Tesco Express', 'OPERATIONAL', {'lat': 50.914744, 'lng': -1.3391973}, 3.5)\n",
      "('Lidl', 'OPERATIONAL', {'lat': 50.9068248, 'lng': -1.3381915}, 4)\n",
      "('Londis', 'OPERATIONAL', {'lat': 50.92759909999999, 'lng': -1.3343759}, 4.4)\n",
      "('Home Bargains', 'OPERATIONAL', {'lat': 50.9733988, 'lng': -1.3688309}, 4.3)\n",
      "('Tesco Petrol Station', 'OPERATIONAL', {'lat': 50.8643021, 'lng': -1.4327528}, 4)\n",
      "(\"Sainsbury's\", 'OPERATIONAL', {'lat': 50.9697723, 'lng': -1.3522108}, 4)\n",
      "('Tesco Express', 'OPERATIONAL', {'lat': 50.8609498, 'lng': -1.4004242}, 4.4)\n",
      "('Lidl', 'OPERATIONAL', {'lat': 50.97067680000001, 'lng': -1.3498864}, 4.1)\n",
      "('M&S Foodhall', 'OPERATIONAL', {'lat': 50.971625, 'lng': -1.35039}, 4.3)\n",
      "('Best One', 'OPERATIONAL', {'lat': 50.97770799999999, 'lng': -1.359943299999999}, 3)\n",
      "('The Food Barn', 'OPERATIONAL', {'lat': 50.9306024, 'lng': -1.4589689}, 3.9)\n",
      "('Tesco Petrol Station', 'OPERATIONAL', {'lat': 50.8933821, 'lng': -1.3207699}, 4)\n",
      "('Tesco Grocery Click & Collect', 'OPERATIONAL', {'lat': 50.8933972, 'lng': -1.3197147}, 4.7)\n",
      "('Tesco Express', 'OPERATIONAL', {'lat': 50.97001189999999, 'lng': -1.3386736}, 4.2)\n",
      "('Central Convenience Stores', 'OPERATIONAL', {'lat': 50.9708106, 'lng': -1.3364885}, 3.5)\n",
      "('Co-op Food', 'OPERATIONAL', {'lat': 50.89467540000001, 'lng': -1.5175241}, 4)\n",
      "('Morrisons', 'OPERATIONAL', {'lat': 50.92229, 'lng': -1.523509}, 3.9)\n",
      "('Asda Totton Superstore', 'OPERATIONAL', {'lat': 50.9182497, 'lng': -1.4888277}, 3.6)\n",
      "('Tesco Express', 'OPERATIONAL', {'lat': 50.9186869, 'lng': -1.4559005}, 4.3)\n"
     ]
    }
   ],
   "source": [
    "for place in supermarket_result:\n",
    "    print(place)"
   ]
  },
  {
   "cell_type": "code",
   "execution_count": 18,
   "id": "4d70fea5",
   "metadata": {},
   "outputs": [
    {
     "name": "stdout",
     "output_type": "stream",
     "text": [
      "{'lat': 50.9673996, 'lng': -1.3903601}\n"
     ]
    }
   ],
   "source": [
    "print(supermarket_result[0][2])"
   ]
  },
  {
   "cell_type": "code",
   "execution_count": 19,
   "id": "faad7ff6",
   "metadata": {},
   "outputs": [
    {
     "name": "stdout",
     "output_type": "stream",
     "text": [
      "50.9673996\n"
     ]
    }
   ],
   "source": [
    "print(supermarket_result[0][2]['lat'])"
   ]
  },
  {
   "cell_type": "code",
   "execution_count": null,
   "id": "75b8a389",
   "metadata": {},
   "outputs": [],
   "source": []
  }
 ],
 "metadata": {
  "kernelspec": {
   "display_name": "Python 3",
   "language": "python",
   "name": "python3"
  },
  "language_info": {
   "codemirror_mode": {
    "name": "ipython",
    "version": 3
   },
   "file_extension": ".py",
   "mimetype": "text/x-python",
   "name": "python",
   "nbconvert_exporter": "python",
   "pygments_lexer": "ipython3",
   "version": "3.6.13"
  }
 },
 "nbformat": 4,
 "nbformat_minor": 5
}
