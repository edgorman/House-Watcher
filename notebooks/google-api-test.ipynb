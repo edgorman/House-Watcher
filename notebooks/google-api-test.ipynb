{
 "cells": [
  {
   "cell_type": "markdown",
   "id": "eecfdcdb",
   "metadata": {},
   "source": [
    "# Google API Tests"
   ]
  },
  {
   "cell_type": "code",
   "execution_count": 1,
   "id": "afda1c71",
   "metadata": {},
   "outputs": [],
   "source": [
    "import sys"
   ]
  },
  {
   "cell_type": "code",
   "execution_count": 2,
   "id": "1d4f037c",
   "metadata": {
    "scrolled": true
   },
   "outputs": [],
   "source": [
    "sys.path.append('../property-fundamentals')\n",
    "from google_api.api import API"
   ]
  },
  {
   "cell_type": "code",
   "execution_count": 3,
   "id": "fbfe8f0c",
   "metadata": {},
   "outputs": [],
   "source": [
    "google_api = API(key_path=\"../property-fundamentals/google_api/key.txt\")"
   ]
  },
  {
   "cell_type": "code",
   "execution_count": 4,
   "id": "a7fde42c",
   "metadata": {},
   "outputs": [
    {
     "name": "stdout",
     "output_type": "stream",
     "text": [
      "new request\n"
     ]
    }
   ],
   "source": [
    "response = google_api.find_place_from_text(\"Museum of Contemporary Art Australia\")"
   ]
  },
  {
   "cell_type": "code",
   "execution_count": 5,
   "id": "a2d02d92",
   "metadata": {
    "scrolled": true
   },
   "outputs": [
    {
     "data": {
      "text/plain": [
       "{'candidates': [{'place_id': 'ChIJ68aBlEKuEmsRHUA9oME5Zh0'}], 'status': 'OK'}"
      ]
     },
     "execution_count": 5,
     "metadata": {},
     "output_type": "execute_result"
    }
   ],
   "source": [
    "response"
   ]
  },
  {
   "cell_type": "markdown",
   "id": "7951743c",
   "metadata": {},
   "source": [
    "#### Warning: The below request will charge 2p every time it is ran"
   ]
  },
  {
   "cell_type": "code",
   "execution_count": 6,
   "id": "59323652",
   "metadata": {
    "scrolled": true
   },
   "outputs": [
    {
     "data": {
      "text/plain": [
       "['accounting',\n",
       " 'airport',\n",
       " 'amusement_park',\n",
       " 'aquarium',\n",
       " 'art_gallery',\n",
       " 'atm',\n",
       " 'bakery',\n",
       " 'bank',\n",
       " 'bar',\n",
       " 'beauty_salon',\n",
       " 'bicycle_store',\n",
       " 'book_store',\n",
       " 'bowling_alley',\n",
       " 'bus_station',\n",
       " 'cafe',\n",
       " 'campground',\n",
       " 'car_dealer',\n",
       " 'car_rental',\n",
       " 'car_repair',\n",
       " 'car_wash',\n",
       " 'casino',\n",
       " 'cemetery',\n",
       " 'church',\n",
       " 'city_hall',\n",
       " 'clothing_store',\n",
       " 'convenience_store',\n",
       " 'courthouse',\n",
       " 'dentist',\n",
       " 'department_store',\n",
       " 'doctor',\n",
       " 'drugstore',\n",
       " 'electrician',\n",
       " 'electronics_store',\n",
       " 'embassy',\n",
       " 'fire_station',\n",
       " 'florist',\n",
       " 'funeral_home',\n",
       " 'furniture_store',\n",
       " 'gas_station',\n",
       " 'gym',\n",
       " 'hair_care',\n",
       " 'hardware_store',\n",
       " 'hindu_temple',\n",
       " 'home_goods_store',\n",
       " 'hospital',\n",
       " 'insurance_agency',\n",
       " 'jewelry_store',\n",
       " 'laundry',\n",
       " 'lawyer',\n",
       " 'library',\n",
       " 'light_rail_station',\n",
       " 'liquor_store',\n",
       " 'local_government_office',\n",
       " 'locksmith',\n",
       " 'lodging',\n",
       " 'meal_delivery',\n",
       " 'meal_takeaway',\n",
       " 'mosque',\n",
       " 'movie_rental',\n",
       " 'movie_theater',\n",
       " 'moving_company',\n",
       " 'museum',\n",
       " 'night_club',\n",
       " 'painter',\n",
       " 'park',\n",
       " 'parking',\n",
       " 'pet_store',\n",
       " 'pharmacy',\n",
       " 'physiotherapist',\n",
       " 'plumber',\n",
       " 'police',\n",
       " 'post_office',\n",
       " 'primary_school',\n",
       " 'real_estate_agency',\n",
       " 'restaurant',\n",
       " 'roofing_contractor',\n",
       " 'rv_park',\n",
       " 'school',\n",
       " 'secondary_school',\n",
       " 'shoe_store',\n",
       " 'shopping_mall',\n",
       " 'spa',\n",
       " 'stadium',\n",
       " 'storage',\n",
       " 'store',\n",
       " 'subway_station',\n",
       " 'supermarket',\n",
       " 'synagogue',\n",
       " 'taxi_stand',\n",
       " 'tourist_attraction',\n",
       " 'train_station',\n",
       " 'transit_station',\n",
       " 'travel_agency',\n",
       " 'university',\n",
       " 'veterinary_care',\n",
       " 'zoo']"
      ]
     },
     "execution_count": 6,
     "metadata": {},
     "output_type": "execute_result"
    }
   ],
   "source": [
    "google_api.get_place_types()"
   ]
  },
  {
   "cell_type": "code",
   "execution_count": 7,
   "id": "bd9ee976",
   "metadata": {
    "scrolled": false
   },
   "outputs": [
    {
     "name": "stdout",
     "output_type": "stream",
     "text": [
      "new request\n"
     ]
    }
   ],
   "source": [
    "train_result = google_api.nearby_search(\n",
    "    50.922515,\n",
    "    -1.415893,\n",
    "    10000,\n",
    "    location_type='train_station'\n",
    ")"
   ]
  },
  {
   "cell_type": "code",
   "execution_count": 8,
   "id": "d6849276",
   "metadata": {},
   "outputs": [
    {
     "name": "stdout",
     "output_type": "stream",
     "text": [
      "('Southampton Central', 'OPERATIONAL', {'lat': 50.9072342, 'lng': -1.4133652}, 3.7)\n",
      "('Swaythling', 'OPERATIONAL', {'lat': 50.94117019999999, 'lng': -1.3763245}, 3.5)\n",
      "('Redbridge', 'OPERATIONAL', {'lat': 50.9198712, 'lng': -1.4701494}, 3.5)\n",
      "(\"Chandler's Ford\", 'OPERATIONAL', {'lat': 50.9834112, 'lng': -1.3849575}, 3.9)\n",
      "('Romsey', 'OPERATIONAL', {'lat': 50.9925995, 'lng': -1.4932496}, 3.3)\n",
      "('Millbrook', 'OPERATIONAL', {'lat': 50.9115717, 'lng': -1.4341139}, 3.7)\n",
      "('St Denys', 'OPERATIONAL', {'lat': 50.9222646, 'lng': -1.3876635}, 4.2)\n",
      "('Bitterne', 'OPERATIONAL', {'lat': 50.9184072, 'lng': -1.3770982}, 4.4)\n",
      "('Woolston', 'OPERATIONAL', {'lat': 50.8989193, 'lng': -1.3769559}, 4.3)\n",
      "('Sholing', 'OPERATIONAL', {'lat': 50.8966381, 'lng': -1.3644847}, 5)\n",
      "('Totton', 'OPERATIONAL', {'lat': 50.91793089999999, 'lng': -1.4825255}, 4.1)\n",
      "('Southampton Airport Parkway', 'OPERATIONAL', {'lat': 50.9507896, 'lng': -1.3630759}, 3.9)\n",
      "('Eastleigh', 'OPERATIONAL', {'lat': 50.9691973, 'lng': -1.3500526}, 3.8)\n",
      "('Netley (NTL)', 'OPERATIONAL', {'lat': 50.8748493, 'lng': -1.3418128}, 3)\n",
      "('Hamble', 'OPERATIONAL', {'lat': 50.871399, 'lng': -1.3284496}, 4)\n",
      "('Hedge End', 'OPERATIONAL', {'lat': 50.932308, 'lng': -1.294492}, 3.5)\n",
      "('Ashurst New Forest', 'OPERATIONAL', {'lat': 50.8897941, 'lng': -1.5266659}, 3.7)\n",
      "('Bursledon', 'OPERATIONAL', {'lat': 50.8839234, 'lng': -1.304897}, 3.8)\n",
      "('Beaulieu Road (BEU)', 'OPERATIONAL', {'lat': 50.8549622, 'lng': -1.504862}, 3.7)\n"
     ]
    }
   ],
   "source": [
    "for place in train_result:\n",
    "    print(place)"
   ]
  },
  {
   "cell_type": "code",
   "execution_count": 9,
   "id": "c0850cc8",
   "metadata": {
    "scrolled": false
   },
   "outputs": [
    {
     "name": "stdout",
     "output_type": "stream",
     "text": [
      "new request\n",
      "new request\n",
      "new request\n"
     ]
    }
   ],
   "source": [
    "hospital_result = google_api.nearby_search(\n",
    "    50.922515,\n",
    "    -1.415893,\n",
    "    10000,\n",
    "    location_type='hospital'\n",
    ")"
   ]
  },
  {
   "cell_type": "code",
   "execution_count": 10,
   "id": "5e2512df",
   "metadata": {},
   "outputs": [
    {
     "name": "stdout",
     "output_type": "stream",
     "text": [
      "('Spire Southampton Hospital', 'OPERATIONAL', {'lat': 50.9307722, 'lng': -1.432086}, 3.7)\n",
      "('Princess Anne Hospital', 'OPERATIONAL', {'lat': 50.9353552, 'lng': -1.4348528}, 3.9)\n",
      "('Priory Hospital Southampton', 'OPERATIONAL', {'lat': 50.8810228, 'lng': -1.4450834}, 3.5)\n",
      "('Woolston Lodge Surgery', 'OPERATIONAL', {'lat': 50.897129, 'lng': -1.3720927}, 2.5)\n",
      "('Nuffield Health Wessex Hospital', 'OPERATIONAL', {'lat': 50.99713180000001, 'lng': -1.3585932}, 4.6)\n",
      "('Solent Medical Services Eye Clinic', 'OPERATIONAL', {'lat': 50.9135655, 'lng': -1.398441}, 4)\n",
      "(\"St Peter's Surgery\", 'OPERATIONAL', {'lat': 50.8977513, 'lng': -1.3727824}, 3.4)\n",
      "('Wessex Hepatobiliary Surgery', 'OPERATIONAL', {'lat': 50.930393, 'lng': -1.432942999999999}, None)\n",
      "('Team Medical', 'OPERATIONAL', {'lat': 50.9210695, 'lng': -1.4673965}, 5)\n",
      "('Life Line Screening', 'OPERATIONAL', {'lat': 50.9156401, 'lng': -1.4109365}, None)\n",
      "('Cypher Information Technology Ltd', 'OPERATIONAL', {'lat': 50.9099878, 'lng': -1.4077937}, 5)\n",
      "('Life Line Screening', 'OPERATIONAL', {'lat': 50.9272065, 'lng': -1.3313144}, None)\n",
      "('Life Line Screening', 'OPERATIONAL', {'lat': 50.9670769, 'lng': -1.3736024}, None)\n",
      "('Forest Lodge', 'OPERATIONAL', {'lat': 50.9192804, 'lng': -1.4058547}, None)\n",
      "('Ultralase', 'OPERATIONAL', {'lat': 50.9193575, 'lng': -1.4049456}, None)\n",
      "('Wessex Cardiology Within Spire Southampton Hospital', 'OPERATIONAL', {'lat': 50.9302278, 'lng': -1.4329653}, None)\n",
      "('Southampton Paediatric Respiratory Clinic', 'OPERATIONAL', {'lat': 50.93034859999999, 'lng': -1.4326675}, None)\n",
      "('Wessex Medical Trust', 'OPERATIONAL', {'lat': 50.9308303, 'lng': -1.4334208}, None)\n",
      "('Transform Hospital Group', 'CLOSED_TEMPORARILY', {'lat': 50.91155999999999, 'lng': -1.401964}, 2)\n",
      "('Transform Medical Group', 'OPERATIONAL', {'lat': 50.91155999999999, 'lng': -1.401964}, None)\n",
      "('Southampton Knee Clinic', 'OPERATIONAL', {'lat': 50.931102, 'lng': -1.4335384}, None)\n",
      "('Atlantic Clinic- Polski Lekarz, Stomatolog, Ginekolog Southampton', 'OPERATIONAL', {'lat': 50.9082016, 'lng': -1.4181755}, 4)\n",
      "('Solent Medical Services Within Royal South Hants Hospital', 'OPERATIONAL', {'lat': 50.9120621, 'lng': -1.3994082}, None)\n",
      "('osteopathineastleigh.com contact', 'OPERATIONAL', {'lat': 50.9097004, 'lng': -1.4043509}, None)\n",
      "('UHS Pathology', 'OPERATIONAL', {'lat': 50.93326109999999, 'lng': -1.4344399}, None)\n",
      "('Royal South Hants Hospital', 'OPERATIONAL', {'lat': 50.9123037, 'lng': -1.3962672}, 4.4)\n",
      "('Medisec Ambulance', 'OPERATIONAL', {'lat': 50.9143026, 'lng': -1.3905002}, 5)\n",
      "('Ocean Medical Services (South) Limited', 'OPERATIONAL', {'lat': 50.8977055, 'lng': -1.4035972}, 4)\n",
      "('College Keep', 'OPERATIONAL', {'lat': 50.8984584, 'lng': -1.3967791}, 3.3)\n",
      "('Ladies Walk Practice (Branch Site)', 'OPERATIONAL', {'lat': 50.9267858, 'lng': -1.3649903}, 2.4)\n",
      "('The Old Fire Station Surgery', 'OPERATIONAL', {'lat': 50.89695209999999, 'lng': -1.3717681}, 3.3)\n",
      "('T Q Twentyone', 'OPERATIONAL', {'lat': 50.9079684, 'lng': -1.5011049}, None)\n",
      "('Life Line Screening', 'OPERATIONAL', {'lat': 50.916954, 'lng': -1.514221}, None)\n",
      "('Life Line Screening', 'OPERATIONAL', {'lat': 50.9873925, 'lng': -1.3866534}, None)\n",
      "('Dr Goodison & Partners', 'OPERATIONAL', {'lat': 50.87599240000001, 'lng': -1.3272662}, 1)\n",
      "('Bluebird House', 'OPERATIONAL', {'lat': 50.93035279999999, 'lng': -1.5283987}, 5)\n",
      "('Life Line Screening', 'OPERATIONAL', {'lat': 50.95235419999999, 'lng': -1.5376559}, None)\n",
      "('Practice Plus Group Hospital, Southampton', 'OPERATIONAL', {'lat': 50.912205, 'lng': -1.3960736}, 4.2)\n",
      "('University Health Service', 'OPERATIONAL', {'lat': 50.93573089999999, 'lng': -1.3994347}, 3.3)\n",
      "('Western Community Hospital', 'OPERATIONAL', {'lat': 50.9243458, 'lng': -1.4454465}, 4.1)\n",
      "('Romsey Hospital', 'OPERATIONAL', {'lat': 50.9922356, 'lng': -1.4820262}, 3.8)\n",
      "('Hedge End Medical Centre', 'OPERATIONAL', {'lat': 50.9141084, 'lng': -1.3007612}, 3.6)\n",
      "('Hythe Hospital', 'OPERATIONAL', {'lat': 50.85856919999999, 'lng': -1.4033237}, 4.2)\n",
      "('Red and Green Practice', 'OPERATIONAL', {'lat': 50.8585636, 'lng': -1.4046656}, 2.9)\n",
      "('Old Anchor Surgery', 'OPERATIONAL', {'lat': 50.9712237, 'lng': -1.3373104}, 4)\n",
      "('Archers Practice', 'OPERATIONAL', {'lat': 50.970948, 'lng': -1.3531405}, 2.1)\n",
      "('Adelaide centre', 'OPERATIONAL', {'lat': 50.9211795, 'lng': -1.4219607}, None)\n",
      "('Veincentre', 'OPERATIONAL', {'lat': 50.9194615, 'lng': -1.4046303}, None)\n",
      "('optical express', 'OPERATIONAL', {'lat': 50.91840910000001, 'lng': -1.4029651}, None)\n",
      "('Occupational Health', 'OPERATIONAL', {'lat': 50.93170989999999, 'lng': -1.432138}, 5)\n",
      "('Training & Development Dept Within Southampton General Hospital', 'OPERATIONAL', {'lat': 50.9300696, 'lng': -1.4343797}, None)\n",
      "('Mr Michael Van den Bossche', 'OPERATIONAL', {'lat': 50.9302437, 'lng': -1.4343597}, None)\n",
      "('Burlsedon House', 'OPERATIONAL', {'lat': 50.9310687, 'lng': -1.4336528}, 5)\n",
      "('Chirurgia naczyniowa', 'OPERATIONAL', {'lat': 50.9081982, 'lng': -1.4179395}, None)\n",
      "('Eye Clinic', 'OPERATIONAL', {'lat': 50.9318362, 'lng': -1.433455}, 3.7)\n",
      "('Eye hospital', 'OPERATIONAL', {'lat': 50.931924, 'lng': -1.4335007}, None)\n",
      "('Eye Unit, Southampton Gen Hosp', 'OPERATIONAL', {'lat': 50.93202100000001, 'lng': -1.4336425}, 4.2)\n",
      "('Southampton Hospital', 'OPERATIONAL', {'lat': 50.9120564, 'lng': -1.3994276}, 5)\n",
      "('Woodley Road', 'OPERATIONAL', {'lat': 50.9097004, 'lng': -1.4043509}, None)\n",
      "('Mitel BOX', 'OPERATIONAL', {'lat': 50.9097004, 'lng': -1.4043509}, None)\n"
     ]
    }
   ],
   "source": [
    "for place in hospital_result:\n",
    "    print(place)"
   ]
  },
  {
   "cell_type": "code",
   "execution_count": 11,
   "id": "93960928",
   "metadata": {},
   "outputs": [
    {
     "data": {
      "text/plain": [
       "60"
      ]
     },
     "execution_count": 11,
     "metadata": {},
     "output_type": "execute_result"
    }
   ],
   "source": [
    "len(hospital_result)"
   ]
  }
 ],
 "metadata": {
  "kernelspec": {
   "display_name": "Python 3",
   "language": "python",
   "name": "python3"
  },
  "language_info": {
   "codemirror_mode": {
    "name": "ipython",
    "version": 3
   },
   "file_extension": ".py",
   "mimetype": "text/x-python",
   "name": "python",
   "nbconvert_exporter": "python",
   "pygments_lexer": "ipython3",
   "version": "3.6.13"
  }
 },
 "nbformat": 4,
 "nbformat_minor": 5
}
