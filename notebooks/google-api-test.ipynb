{
 "cells": [
  {
   "cell_type": "markdown",
   "id": "eecfdcdb",
   "metadata": {},
   "source": [
    "# Google API Tests"
   ]
  },
  {
   "cell_type": "code",
   "execution_count": 1,
   "id": "afda1c71",
   "metadata": {},
   "outputs": [],
   "source": [
    "import sys"
   ]
  },
  {
   "cell_type": "code",
   "execution_count": 2,
   "id": "1d4f037c",
   "metadata": {
    "scrolled": true
   },
   "outputs": [],
   "source": [
    "sys.path.append('../property-fundamentals')\n",
    "from google_api.api import API"
   ]
  },
  {
   "cell_type": "code",
   "execution_count": 3,
   "id": "fbfe8f0c",
   "metadata": {},
   "outputs": [],
   "source": [
    "google_api = API(key_path=\"../property-fundamentals/google_api/key.txt\")"
   ]
  },
  {
   "cell_type": "code",
   "execution_count": 4,
   "id": "a7fde42c",
   "metadata": {},
   "outputs": [],
   "source": [
    "response = google_api.find_place_from_text(\"Museum of Contemporary Art Australia\")"
   ]
  },
  {
   "cell_type": "code",
   "execution_count": 5,
   "id": "a2d02d92",
   "metadata": {
    "scrolled": true
   },
   "outputs": [
    {
     "data": {
      "text/plain": [
       "{'candidates': [{'place_id': 'ChIJ68aBlEKuEmsRHUA9oME5Zh0'}], 'status': 'OK'}"
      ]
     },
     "execution_count": 5,
     "metadata": {},
     "output_type": "execute_result"
    }
   ],
   "source": [
    "response"
   ]
  },
  {
   "cell_type": "markdown",
   "id": "7951743c",
   "metadata": {},
   "source": [
    "#### Warning: The below request will charge 2p every time it is ran"
   ]
  },
  {
   "cell_type": "code",
   "execution_count": 6,
   "id": "59323652",
   "metadata": {
    "scrolled": true
   },
   "outputs": [
    {
     "data": {
      "text/plain": [
       "['accounting',\n",
       " 'airport',\n",
       " 'amusement_park',\n",
       " 'aquarium',\n",
       " 'art_gallery',\n",
       " 'atm',\n",
       " 'bakery',\n",
       " 'bank',\n",
       " 'bar',\n",
       " 'beauty_salon',\n",
       " 'bicycle_store',\n",
       " 'book_store',\n",
       " 'bowling_alley',\n",
       " 'bus_station',\n",
       " 'cafe',\n",
       " 'campground',\n",
       " 'car_dealer',\n",
       " 'car_rental',\n",
       " 'car_repair',\n",
       " 'car_wash',\n",
       " 'casino',\n",
       " 'cemetery',\n",
       " 'church',\n",
       " 'city_hall',\n",
       " 'clothing_store',\n",
       " 'convenience_store',\n",
       " 'courthouse',\n",
       " 'dentist',\n",
       " 'department_store',\n",
       " 'doctor',\n",
       " 'drugstore',\n",
       " 'electrician',\n",
       " 'electronics_store',\n",
       " 'embassy',\n",
       " 'fire_station',\n",
       " 'florist',\n",
       " 'funeral_home',\n",
       " 'furniture_store',\n",
       " 'gas_station',\n",
       " 'gym',\n",
       " 'hair_care',\n",
       " 'hardware_store',\n",
       " 'hindu_temple',\n",
       " 'home_goods_store',\n",
       " 'hospital',\n",
       " 'insurance_agency',\n",
       " 'jewelry_store',\n",
       " 'laundry',\n",
       " 'lawyer',\n",
       " 'library',\n",
       " 'light_rail_station',\n",
       " 'liquor_store',\n",
       " 'local_government_office',\n",
       " 'locksmith',\n",
       " 'lodging',\n",
       " 'meal_delivery',\n",
       " 'meal_takeaway',\n",
       " 'mosque',\n",
       " 'movie_rental',\n",
       " 'movie_theater',\n",
       " 'moving_company',\n",
       " 'museum',\n",
       " 'night_club',\n",
       " 'painter',\n",
       " 'park',\n",
       " 'parking',\n",
       " 'pet_store',\n",
       " 'pharmacy',\n",
       " 'physiotherapist',\n",
       " 'plumber',\n",
       " 'police',\n",
       " 'post_office',\n",
       " 'primary_school',\n",
       " 'real_estate_agency',\n",
       " 'restaurant',\n",
       " 'roofing_contractor',\n",
       " 'rv_park',\n",
       " 'school',\n",
       " 'secondary_school',\n",
       " 'shoe_store',\n",
       " 'shopping_mall',\n",
       " 'spa',\n",
       " 'stadium',\n",
       " 'storage',\n",
       " 'store',\n",
       " 'subway_station',\n",
       " 'supermarket',\n",
       " 'synagogue',\n",
       " 'taxi_stand',\n",
       " 'tourist_attraction',\n",
       " 'train_station',\n",
       " 'transit_station',\n",
       " 'travel_agency',\n",
       " 'university',\n",
       " 'veterinary_care',\n",
       " 'zoo']"
      ]
     },
     "execution_count": 6,
     "metadata": {},
     "output_type": "execute_result"
    }
   ],
   "source": [
    "google_api.get_place_types()"
   ]
  },
  {
   "cell_type": "code",
   "execution_count": 7,
   "id": "bd9ee976",
   "metadata": {},
   "outputs": [
    {
     "data": {
      "text/plain": [
       "[('Southampton Central',\n",
       "  'OPERATIONAL',\n",
       "  {'lat': 50.9072342, 'lng': -1.4133652},\n",
       "  3.7),\n",
       " ('Swaythling',\n",
       "  'OPERATIONAL',\n",
       "  {'lat': 50.94117019999999, 'lng': -1.3763245},\n",
       "  3.5),\n",
       " ('Redbridge', 'OPERATIONAL', {'lat': 50.9198712, 'lng': -1.4701494}, 3.5),\n",
       " (\"Chandler's Ford\",\n",
       "  'OPERATIONAL',\n",
       "  {'lat': 50.9834112, 'lng': -1.3849575},\n",
       "  3.9),\n",
       " ('Romsey', 'OPERATIONAL', {'lat': 50.9925995, 'lng': -1.4932496}, 3.3),\n",
       " ('Millbrook', 'OPERATIONAL', {'lat': 50.9115717, 'lng': -1.4341139}, 3.7),\n",
       " ('St Denys', 'OPERATIONAL', {'lat': 50.9222646, 'lng': -1.3876635}, 4.2),\n",
       " ('Bitterne', 'OPERATIONAL', {'lat': 50.9184072, 'lng': -1.3770982}, 4.4),\n",
       " ('Woolston', 'OPERATIONAL', {'lat': 50.8989193, 'lng': -1.3769559}, 4.3),\n",
       " ('Sholing', 'OPERATIONAL', {'lat': 50.8966381, 'lng': -1.3644847}, 5),\n",
       " ('Totton', 'OPERATIONAL', {'lat': 50.91793089999999, 'lng': -1.4825255}, 4.1),\n",
       " ('Southampton Airport Parkway',\n",
       "  'OPERATIONAL',\n",
       "  {'lat': 50.9507896, 'lng': -1.3630759},\n",
       "  3.9),\n",
       " ('Eastleigh', 'OPERATIONAL', {'lat': 50.9691973, 'lng': -1.3500526}, 3.8),\n",
       " ('Netley (NTL)', 'OPERATIONAL', {'lat': 50.8748493, 'lng': -1.3418128}, 3),\n",
       " ('Hamble', 'OPERATIONAL', {'lat': 50.871399, 'lng': -1.3284496}, 4),\n",
       " ('Hedge End', 'OPERATIONAL', {'lat': 50.932308, 'lng': -1.294492}, 3.5),\n",
       " ('Ashurst New Forest',\n",
       "  'OPERATIONAL',\n",
       "  {'lat': 50.8897941, 'lng': -1.5266659},\n",
       "  3.7),\n",
       " ('Bursledon', 'OPERATIONAL', {'lat': 50.8839234, 'lng': -1.304897}, 3.8),\n",
       " ('Beaulieu Road (BEU)',\n",
       "  'OPERATIONAL',\n",
       "  {'lat': 50.8549622, 'lng': -1.504862},\n",
       "  3.7)]"
      ]
     },
     "execution_count": 7,
     "metadata": {},
     "output_type": "execute_result"
    }
   ],
   "source": [
    "google_api.nearby_search(\n",
    "    50.922515,\n",
    "    -1.415893,\n",
    "    10000,\n",
    "    location_type='train_station'\n",
    ")"
   ]
  },
  {
   "cell_type": "code",
   "execution_count": 8,
   "id": "c0850cc8",
   "metadata": {},
   "outputs": [
    {
     "data": {
      "text/plain": [
       "[('Spire Southampton Hospital',\n",
       "  'OPERATIONAL',\n",
       "  {'lat': 50.9307722, 'lng': -1.432086},\n",
       "  3.7),\n",
       " ('Princess Anne Hospital',\n",
       "  'OPERATIONAL',\n",
       "  {'lat': 50.9353552, 'lng': -1.4348528},\n",
       "  3.9),\n",
       " ('Priory Hospital Southampton',\n",
       "  'OPERATIONAL',\n",
       "  {'lat': 50.8810228, 'lng': -1.4450834},\n",
       "  3.5),\n",
       " ('Woolston Lodge Surgery',\n",
       "  'OPERATIONAL',\n",
       "  {'lat': 50.897129, 'lng': -1.3720927},\n",
       "  2.5),\n",
       " ('Nuffield Health Wessex Hospital',\n",
       "  'OPERATIONAL',\n",
       "  {'lat': 50.99713180000001, 'lng': -1.3585932},\n",
       "  4.6),\n",
       " ('Solent Medical Services Eye Clinic',\n",
       "  'OPERATIONAL',\n",
       "  {'lat': 50.9135655, 'lng': -1.398441},\n",
       "  4),\n",
       " (\"St Peter's Surgery\",\n",
       "  'OPERATIONAL',\n",
       "  {'lat': 50.8977513, 'lng': -1.3727824},\n",
       "  3.4),\n",
       " ('Wessex Hepatobiliary Surgery',\n",
       "  'OPERATIONAL',\n",
       "  {'lat': 50.930393, 'lng': -1.432942999999999}),\n",
       " ('Team Medical', 'OPERATIONAL', {'lat': 50.9210695, 'lng': -1.4673965}, 5),\n",
       " ('Life Line Screening',\n",
       "  'OPERATIONAL',\n",
       "  {'lat': 50.9156401, 'lng': -1.4109365}),\n",
       " ('Cypher Information Technology Ltd',\n",
       "  'OPERATIONAL',\n",
       "  {'lat': 50.9099878, 'lng': -1.4077937},\n",
       "  5),\n",
       " ('Life Line Screening',\n",
       "  'OPERATIONAL',\n",
       "  {'lat': 50.9272065, 'lng': -1.3313144}),\n",
       " ('Life Line Screening',\n",
       "  'OPERATIONAL',\n",
       "  {'lat': 50.9670769, 'lng': -1.3736024}),\n",
       " ('Forest Lodge', 'OPERATIONAL', {'lat': 50.9192804, 'lng': -1.4058547}),\n",
       " ('Ultralase', 'OPERATIONAL', {'lat': 50.9193575, 'lng': -1.4049456}),\n",
       " ('Wessex Cardiology Within Spire Southampton Hospital',\n",
       "  'OPERATIONAL',\n",
       "  {'lat': 50.9302278, 'lng': -1.4329653}),\n",
       " ('Southampton Paediatric Respiratory Clinic',\n",
       "  'OPERATIONAL',\n",
       "  {'lat': 50.93034859999999, 'lng': -1.4326675}),\n",
       " ('Wessex Medical Trust',\n",
       "  'OPERATIONAL',\n",
       "  {'lat': 50.9308303, 'lng': -1.4334208}),\n",
       " ('Transform Hospital Group',\n",
       "  'CLOSED_TEMPORARILY',\n",
       "  {'lat': 50.91155999999999, 'lng': -1.401964},\n",
       "  2),\n",
       " ('Transform Medical Group',\n",
       "  'OPERATIONAL',\n",
       "  {'lat': 50.91155999999999, 'lng': -1.401964})]"
      ]
     },
     "execution_count": 8,
     "metadata": {},
     "output_type": "execute_result"
    }
   ],
   "source": [
    "google_api.nearby_search(\n",
    "    50.922515,\n",
    "    -1.415893,\n",
    "    10000,\n",
    "    location_type='hospital'\n",
    ")"
   ]
  }
 ],
 "metadata": {
  "kernelspec": {
   "display_name": "Python 3",
   "language": "python",
   "name": "python3"
  },
  "language_info": {
   "codemirror_mode": {
    "name": "ipython",
    "version": 3
   },
   "file_extension": ".py",
   "mimetype": "text/x-python",
   "name": "python",
   "nbconvert_exporter": "python",
   "pygments_lexer": "ipython3",
   "version": "3.6.13"
  }
 },
 "nbformat": 4,
 "nbformat_minor": 5
}
