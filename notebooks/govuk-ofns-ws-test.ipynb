{
 "cells": [
  {
   "cell_type": "markdown",
   "id": "cf5eb242",
   "metadata": {},
   "source": [
    "# GOVUK OFNS API Tests"
   ]
  },
  {
   "cell_type": "code",
   "execution_count": 1,
   "id": "64fe5f63",
   "metadata": {},
   "outputs": [],
   "source": [
    "import sys"
   ]
  },
  {
   "cell_type": "code",
   "execution_count": 14,
   "id": "6362bb55",
   "metadata": {},
   "outputs": [],
   "source": [
    "sys.path.append('../property-fundamentals')\n",
    "from govuk_ws.ofns.medianprice import MedianPrice\n",
    "#from govuk_ws.ofns.meanprice import MeanPrice"
   ]
  },
  {
   "cell_type": "code",
   "execution_count": 3,
   "id": "04ce2989",
   "metadata": {},
   "outputs": [],
   "source": [
    "median_price = MedianPrice()"
   ]
  },
  {
   "cell_type": "code",
   "execution_count": 4,
   "id": "ae7e40b4",
   "metadata": {},
   "outputs": [
    {
     "name": "stdout",
     "output_type": "stream",
     "text": [
      "[['all', 'detached', 'semi-detached', 'terraced', 'flats']]\n"
     ]
    }
   ],
   "source": [
    "house_types = []\n",
    "house_types.clear()\n",
    "house_types.append(median_price.get_house_types())\n",
    "print(house_types)"
   ]
  },
  {
   "cell_type": "code",
   "execution_count": 5,
   "id": "dd34bc31",
   "metadata": {},
   "outputs": [
    {
     "data": {
      "text/plain": [
       "['Adur',\n",
       " 'Allerdale',\n",
       " 'Amber Valley',\n",
       " 'Arun',\n",
       " 'Ashfield',\n",
       " 'Ashford',\n",
       " 'Babergh',\n",
       " 'Barking and Dagenham',\n",
       " 'Barnet',\n",
       " 'Barnsley',\n",
       " 'Barrow-in-Furness',\n",
       " 'Basildon',\n",
       " 'Basingstoke and Deane',\n",
       " 'Bassetlaw',\n",
       " 'Bath and North East Somerset',\n",
       " 'Bedford',\n",
       " 'Bexley',\n",
       " 'Birmingham',\n",
       " 'Blaby',\n",
       " 'Blackburn with Darwen',\n",
       " 'Blackpool',\n",
       " 'Blaenau Gwent',\n",
       " 'Bolsover',\n",
       " 'Bolton',\n",
       " 'Boston',\n",
       " 'Bournemouth, Christchurch and Poole',\n",
       " 'Bracknell Forest',\n",
       " 'Bradford',\n",
       " 'Braintree',\n",
       " 'Breckland',\n",
       " 'Brent',\n",
       " 'Brentwood',\n",
       " 'Bridgend',\n",
       " 'Brighton and Hove',\n",
       " 'Bristol, City of',\n",
       " 'Broadland',\n",
       " 'Bromley',\n",
       " 'Bromsgrove',\n",
       " 'Broxbourne',\n",
       " 'Broxtowe',\n",
       " 'Buckinghamshire',\n",
       " 'Burnley',\n",
       " 'Bury',\n",
       " 'Caerphilly',\n",
       " 'Calderdale',\n",
       " 'Cambridge',\n",
       " 'Camden',\n",
       " 'Cannock Chase',\n",
       " 'Canterbury',\n",
       " 'Cardiff',\n",
       " 'Carlisle',\n",
       " 'Carmarthenshire',\n",
       " 'Castle Point',\n",
       " 'Central Bedfordshire',\n",
       " 'Ceredigion',\n",
       " 'Charnwood',\n",
       " 'Chelmsford',\n",
       " 'Cheltenham',\n",
       " 'Cherwell',\n",
       " 'Cheshire East',\n",
       " 'Cheshire West and Chester',\n",
       " 'Chesterfield',\n",
       " 'Chichester',\n",
       " 'Chorley',\n",
       " 'City of London',\n",
       " 'Colchester',\n",
       " 'Conwy',\n",
       " 'Copeland',\n",
       " 'Corby',\n",
       " 'Cornwall',\n",
       " 'Cotswold',\n",
       " 'County Durham',\n",
       " 'Coventry',\n",
       " 'Craven',\n",
       " 'Crawley',\n",
       " 'Croydon',\n",
       " 'Dacorum',\n",
       " 'Darlington',\n",
       " 'Dartford',\n",
       " 'Daventry',\n",
       " 'Denbighshire',\n",
       " 'Derby',\n",
       " 'Derbyshire Dales',\n",
       " 'Doncaster',\n",
       " 'Dorset',\n",
       " 'Dover',\n",
       " 'Dudley',\n",
       " 'Ealing',\n",
       " 'East Cambridgeshire',\n",
       " 'East Devon',\n",
       " 'East Hampshire',\n",
       " 'East Hertfordshire',\n",
       " 'East Lindsey',\n",
       " 'East Northamptonshire',\n",
       " 'East Riding of Yorkshire',\n",
       " 'East Staffordshire',\n",
       " 'East Suffolk',\n",
       " 'Eastbourne',\n",
       " 'Eastleigh',\n",
       " 'Eden',\n",
       " 'Elmbridge',\n",
       " 'Enfield',\n",
       " 'Epping Forest',\n",
       " 'Epsom and Ewell',\n",
       " 'Erewash',\n",
       " 'Exeter',\n",
       " 'Fareham',\n",
       " 'Fenland',\n",
       " 'Flintshire',\n",
       " 'Folkestone and Hythe',\n",
       " 'Forest of Dean',\n",
       " 'Fylde',\n",
       " 'Gateshead',\n",
       " 'Gedling',\n",
       " 'Gloucester',\n",
       " 'Gosport',\n",
       " 'Gravesham',\n",
       " 'Great Yarmouth',\n",
       " 'Greenwich',\n",
       " 'Guildford',\n",
       " 'Gwynedd',\n",
       " 'Hackney',\n",
       " 'Halton',\n",
       " 'Hambleton',\n",
       " 'Hammersmith and Fulham',\n",
       " 'Harborough',\n",
       " 'Haringey',\n",
       " 'Harlow',\n",
       " 'Harrogate',\n",
       " 'Harrow',\n",
       " 'Hart',\n",
       " 'Hartlepool',\n",
       " 'Hastings',\n",
       " 'Havant',\n",
       " 'Havering',\n",
       " 'Herefordshire, County of',\n",
       " 'Hertsmere',\n",
       " 'High Peak',\n",
       " 'Hillingdon',\n",
       " 'Hinckley and Bosworth',\n",
       " 'Horsham',\n",
       " 'Hounslow',\n",
       " 'Huntingdonshire',\n",
       " 'Hyndburn',\n",
       " 'Ipswich',\n",
       " 'Isle of Anglesey',\n",
       " 'Isle of Wight',\n",
       " 'Isles of Scilly',\n",
       " 'Islington',\n",
       " 'Kensington and Chelsea',\n",
       " 'Kettering',\n",
       " \"King's Lynn and West Norfolk\",\n",
       " 'Kingston upon Hull, City of',\n",
       " 'Kingston upon Thames',\n",
       " 'Kirklees',\n",
       " 'Knowsley',\n",
       " 'Lambeth',\n",
       " 'Lancaster',\n",
       " 'Leeds',\n",
       " 'Leicester',\n",
       " 'Lewes',\n",
       " 'Lewisham',\n",
       " 'Lichfield',\n",
       " 'Lincoln',\n",
       " 'Liverpool',\n",
       " 'Luton',\n",
       " 'Maidstone',\n",
       " 'Maldon',\n",
       " 'Malvern Hills',\n",
       " 'Manchester',\n",
       " 'Mansfield',\n",
       " 'Medway',\n",
       " 'Melton',\n",
       " 'Mendip',\n",
       " 'Merthyr Tydfil',\n",
       " 'Merton',\n",
       " 'Mid Devon',\n",
       " 'Mid Suffolk',\n",
       " 'Mid Sussex',\n",
       " 'Middlesbrough',\n",
       " 'Milton Keynes',\n",
       " 'Mole Valley',\n",
       " 'Monmouthshire',\n",
       " 'Neath Port Talbot',\n",
       " 'New Forest',\n",
       " 'Newark and Sherwood',\n",
       " 'Newcastle upon Tyne',\n",
       " 'Newcastle-under-Lyme',\n",
       " 'Newham',\n",
       " 'Newport',\n",
       " 'North Devon',\n",
       " 'North East Derbyshire',\n",
       " 'North East Lincolnshire',\n",
       " 'North Hertfordshire',\n",
       " 'North Kesteven',\n",
       " 'North Lincolnshire',\n",
       " 'North Norfolk',\n",
       " 'North Somerset',\n",
       " 'North Tyneside',\n",
       " 'North Warwickshire',\n",
       " 'North West Leicestershire',\n",
       " 'Northampton',\n",
       " 'Northumberland',\n",
       " 'Norwich',\n",
       " 'Nottingham',\n",
       " 'Nuneaton and Bedworth',\n",
       " 'Oadby and Wigston',\n",
       " 'Oldham',\n",
       " 'Oxford',\n",
       " 'Pembrokeshire',\n",
       " 'Pendle',\n",
       " 'Peterborough',\n",
       " 'Plymouth',\n",
       " 'Portsmouth',\n",
       " 'Powys',\n",
       " 'Preston',\n",
       " 'Reading',\n",
       " 'Redbridge',\n",
       " 'Redcar and Cleveland',\n",
       " 'Redditch',\n",
       " 'Reigate and Banstead',\n",
       " 'Rhondda Cynon Taf',\n",
       " 'Ribble Valley',\n",
       " 'Richmond upon Thames',\n",
       " 'Richmondshire',\n",
       " 'Rochdale',\n",
       " 'Rochford',\n",
       " 'Rossendale',\n",
       " 'Rother',\n",
       " 'Rotherham',\n",
       " 'Rugby',\n",
       " 'Runnymede',\n",
       " 'Rushcliffe',\n",
       " 'Rushmoor',\n",
       " 'Rutland',\n",
       " 'Ryedale',\n",
       " 'Salford',\n",
       " 'Sandwell',\n",
       " 'Scarborough',\n",
       " 'Sedgemoor',\n",
       " 'Sefton',\n",
       " 'Selby',\n",
       " 'Sevenoaks',\n",
       " 'Sheffield',\n",
       " 'Shropshire',\n",
       " 'Slough',\n",
       " 'Solihull',\n",
       " 'Somerset West and Taunton',\n",
       " 'South Cambridgeshire',\n",
       " 'South Derbyshire',\n",
       " 'South Gloucestershire',\n",
       " 'South Hams',\n",
       " 'South Holland',\n",
       " 'South Kesteven',\n",
       " 'South Lakeland',\n",
       " 'South Norfolk',\n",
       " 'South Northamptonshire',\n",
       " 'South Oxfordshire',\n",
       " 'South Ribble',\n",
       " 'South Somerset',\n",
       " 'South Staffordshire',\n",
       " 'South Tyneside',\n",
       " 'Southampton',\n",
       " 'Southend-on-Sea',\n",
       " 'Southwark',\n",
       " 'Spelthorne',\n",
       " 'St Albans',\n",
       " 'St. Helens',\n",
       " 'Stafford',\n",
       " 'Staffordshire Moorlands',\n",
       " 'Stevenage',\n",
       " 'Stockport',\n",
       " 'Stockton-on-Tees',\n",
       " 'Stoke-on-Trent',\n",
       " 'Stratford-on-Avon',\n",
       " 'Stroud',\n",
       " 'Sunderland',\n",
       " 'Surrey Heath',\n",
       " 'Sutton',\n",
       " 'Swale',\n",
       " 'Swansea',\n",
       " 'Swindon',\n",
       " 'Tameside',\n",
       " 'Tamworth',\n",
       " 'Tandridge',\n",
       " 'Teignbridge',\n",
       " 'Telford and Wrekin',\n",
       " 'Tendring',\n",
       " 'Test Valley',\n",
       " 'Tewkesbury',\n",
       " 'Thanet',\n",
       " 'Three Rivers',\n",
       " 'Thurrock',\n",
       " 'Tonbridge and Malling',\n",
       " 'Torbay',\n",
       " 'Torfaen',\n",
       " 'Torridge',\n",
       " 'Tower Hamlets',\n",
       " 'Trafford',\n",
       " 'Tunbridge Wells',\n",
       " 'Uttlesford',\n",
       " 'Vale of Glamorgan',\n",
       " 'Vale of White Horse',\n",
       " 'Wakefield',\n",
       " 'Walsall',\n",
       " 'Waltham Forest',\n",
       " 'Wandsworth',\n",
       " 'Warrington',\n",
       " 'Warwick',\n",
       " 'Watford',\n",
       " 'Waverley',\n",
       " 'Wealden',\n",
       " 'Wellingborough',\n",
       " 'Welwyn Hatfield',\n",
       " 'West Berkshire',\n",
       " 'West Devon',\n",
       " 'West Lancashire',\n",
       " 'West Lindsey',\n",
       " 'West Oxfordshire',\n",
       " 'West Suffolk',\n",
       " 'Westminster',\n",
       " 'Wigan',\n",
       " 'Wiltshire',\n",
       " 'Winchester',\n",
       " 'Windsor and Maidenhead',\n",
       " 'Wirral',\n",
       " 'Woking',\n",
       " 'Wokingham',\n",
       " 'Wolverhampton',\n",
       " 'Worcester',\n",
       " 'Worthing',\n",
       " 'Wrexham',\n",
       " 'Wychavon',\n",
       " 'Wyre',\n",
       " 'Wyre Forest',\n",
       " 'York']"
      ]
     },
     "execution_count": 5,
     "metadata": {},
     "output_type": "execute_result"
    }
   ],
   "source": [
    "median_price.get_districts()"
   ]
  },
  {
   "cell_type": "code",
   "execution_count": 6,
   "id": "af89fbea",
   "metadata": {},
   "outputs": [
    {
     "name": "stdout",
     "output_type": "stream",
     "text": [
      "['Abbeydale', 'Abbeymead', 'Barnwood', 'Barton and Tredworth', 'Coney Hill', 'Elmbridge', 'Grange', 'Hucclecote', 'Kingsholm and Wotton', 'Kingsway', 'Longlevens', 'Matson and Robinswood', 'Moreland', 'Podsmead', 'Quedgeley Fieldcourt', 'Quedgeley Severn Vale', 'Tuffley', 'Westgate']\n",
      "18\n"
     ]
    }
   ],
   "source": [
    "wards = []\n",
    "wards.clear()\n",
    "wards.append(median_price.get_wards('Gloucester'))\n",
    "print(wards[0])\n",
    "print(len(wards[0]))"
   ]
  },
  {
   "cell_type": "code",
   "execution_count": 7,
   "id": "92f9eed1",
   "metadata": {},
   "outputs": [
    {
     "name": "stdout",
     "output_type": "stream",
     "text": [
      "242845.78313\n",
      "\n",
      "\n",
      "264937.64706\n"
     ]
    }
   ],
   "source": [
    "prices= []\n",
    "prices.clear()\n",
    "j=0\n",
    "\n",
    "for j in range (0,len(wards[0])):\n",
    "    prices.append(median_price.get_ward_data('Gloucester', wards[0][j], \"all\"))\n",
    "\n",
    "print(prices[0])\n",
    "print(\"\\n\")\n",
    "print(prices[1])"
   ]
  },
  {
   "cell_type": "code",
   "execution_count": 8,
   "id": "fbd3c8e1",
   "metadata": {},
   "outputs": [
    {
     "name": "stdout",
     "output_type": "stream",
     "text": [
      "242845.78313\n"
     ]
    }
   ],
   "source": [
    "print(median_price.get_ward_data('Gloucester', 'Abbeydale', 'all'))"
   ]
  },
  {
   "cell_type": "code",
   "execution_count": 9,
   "id": "a4c9dc53",
   "metadata": {},
   "outputs": [
    {
     "name": "stdout",
     "output_type": "stream",
     "text": [
      "285088.23529\n"
     ]
    }
   ],
   "source": [
    "print(median_price.get_ward_data('Gloucester', 'Abbeydale', 'detached'))"
   ]
  },
  {
   "cell_type": "code",
   "execution_count": 10,
   "id": "6ab0fbe3",
   "metadata": {},
   "outputs": [
    {
     "name": "stdout",
     "output_type": "stream",
     "text": [
      "219005.55556\n"
     ]
    }
   ],
   "source": [
    "print(median_price.get_ward_data('Gloucester', 'Abbeydale', 'semi-detached'))"
   ]
  },
  {
   "cell_type": "code",
   "execution_count": 11,
   "id": "0046fae3",
   "metadata": {},
   "outputs": [
    {
     "name": "stdout",
     "output_type": "stream",
     "text": [
      "198384.61538\n"
     ]
    }
   ],
   "source": [
    "print(median_price.get_ward_data('Gloucester', 'Abbeydale', 'terraced'))"
   ]
  },
  {
   "cell_type": "code",
   "execution_count": 12,
   "id": "f313c488",
   "metadata": {},
   "outputs": [
    {
     "name": "stdout",
     "output_type": "stream",
     "text": [
      "None\n"
     ]
    }
   ],
   "source": [
    "print(median_price.get_ward_data('Gloucester', 'Abbeydale', 'flats'))"
   ]
  },
  {
   "cell_type": "markdown",
   "id": "26d4d6dc",
   "metadata": {},
   "source": [
    "This last one is an example of where data is missing, indicated by the 'None' value (https://www.w3schools.com/python/ref_keyword_none.asp)."
   ]
  }
 ],
 "metadata": {
  "kernelspec": {
   "display_name": "Python 3",
   "language": "python",
   "name": "python3"
  },
  "language_info": {
   "codemirror_mode": {
    "name": "ipython",
    "version": 3
   },
   "file_extension": ".py",
   "mimetype": "text/x-python",
   "name": "python",
   "nbconvert_exporter": "python",
   "pygments_lexer": "ipython3",
   "version": "3.6.13"
  }
 },
 "nbformat": 4,
 "nbformat_minor": 5
}
