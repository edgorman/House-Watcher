{
 "cells": [
  {
   "cell_type": "markdown",
   "id": "eecfdcdb",
   "metadata": {},
   "source": [
    "# Google API Tests"
   ]
  },
  {
   "cell_type": "code",
   "execution_count": 1,
   "id": "afda1c71",
   "metadata": {},
   "outputs": [],
   "source": [
    "import sys"
   ]
  },
  {
   "cell_type": "code",
   "execution_count": 2,
   "id": "dec66b50",
   "metadata": {},
   "outputs": [],
   "source": [
    "import requests\n",
    "import json"
   ]
  },
  {
   "cell_type": "code",
   "execution_count": 9,
   "id": "9efb0618",
   "metadata": {},
   "outputs": [
    {
     "name": "stdout",
     "output_type": "stream",
     "text": [
      "{\n",
      "  \"@context\": \"http://environment.data.gov.uk/flood-monitoring/meta/context.jsonld\",\n",
      "  \"meta\": {\n",
      "    \"publisher\": \"Environment Agency\",\n",
      "    \"licence\": \"http://www.nationalarchives.gov.uk/doc/open-government-licence/version/3/\",\n",
      "    \"documentation\": \"http://environment.data.gov.uk/flood-monitoring/doc/reference\",\n",
      "    \"version\": \"0.9\",\n",
      "    \"comment\": \"Status: Beta service\",\n",
      "    \"hasFormat\": [\n",
      "      \"http://environment.data.gov.uk/flood-monitoring/id/floodAreas.csv?lat=54.28219&long=-0.38364&dist=1\",\n",
      "      \"http://environment.data.gov.uk/flood-monitoring/id/floodAreas.rdf?lat=54.28219&long=-0.38364&dist=1\",\n",
      "      \"http://environment.data.gov.uk/flood-monitoring/id/floodAreas.ttl?lat=54.28219&long=-0.38364&dist=1\",\n",
      "      \"http://environment.data.gov.uk/flood-monitoring/id/floodAreas.html?lat=54.28219&long=-0.38364&dist=1\"\n",
      "    ],\n",
      "    \"limit\": 500\n",
      "  },\n",
      "  \"items\": [\n",
      "    {\n",
      "      \"@id\": \"http://environment.data.gov.uk/flood-monitoring/id/floodAreas/122FWC045\",\n",
      "      \"county\": \"North Yorkshire\",\n",
      "      \"description\": \"Properties on Sandside around the Old Harbour\",\n",
      "      \"eaAreaName\": \"Yorkshire\",\n",
      "      \"floodWatchArea\": \"http://environment.data.gov.uk/flood-monitoring/id/floodAreas/122WAC953\",\n",
      "      \"fwdCode\": \"122FWC045\",\n",
      "      \"label\": \"North Sea at Scarborough - Sandside\",\n",
      "      \"lat\": 54.28364,\n",
      "      \"long\": -0.39051,\n",
      "      \"notation\": \"122FWC045\",\n",
      "      \"polygon\": \"http://environment.data.gov.uk/flood-monitoring/id/floodAreas/122FWC045/polygon\",\n",
      "      \"quickDialNumber\": \"303000\",\n",
      "      \"riverOrSea\": \"North Sea\"\n",
      "    },\n",
      "    {\n",
      "      \"@id\": \"http://environment.data.gov.uk/flood-monitoring/id/floodAreas/122WAC953\",\n",
      "      \"county\": \"East Riding of Yorkshire, North Yorkshire\",\n",
      "      \"description\": \"The North Sea coast from Whitby to Filey, including Scarborough\",\n",
      "      \"eaAreaName\": \"Yorkshire\",\n",
      "      \"fwdCode\": \"122WAC953\",\n",
      "      \"label\": \"North Sea coast from Whitby to Filey\",\n",
      "      \"lat\": 54.28219,\n",
      "      \"long\": -0.38364,\n",
      "      \"notation\": \"122WAC953\",\n",
      "      \"polygon\": \"http://environment.data.gov.uk/flood-monitoring/id/floodAreas/122WAC953/polygon\",\n",
      "      \"quickDialNumber\": \"130401\",\n",
      "      \"riverOrSea\": \"North Sea\"\n",
      "    },\n",
      "    {\n",
      "      \"@id\": \"http://environment.data.gov.uk/flood-monitoring/id/floodAreas/122WAF949\",\n",
      "      \"county\": \"East Riding of Yorkshire, North Yorkshire\",\n",
      "      \"description\": \"The Upper Derwent and Scarborough areas, including land around The Sea Cut at Scalby, Throxenby Beck, Old Malton, and Priorpot Beck in Norton\",\n",
      "      \"eaAreaName\": \"Yorkshire\",\n",
      "      \"fwdCode\": \"122WAF949\",\n",
      "      \"label\": \"Upper River Derwent\",\n",
      "      \"lat\": 54.18795,\n",
      "      \"long\": -0.65618,\n",
      "      \"notation\": \"122WAF949\",\n",
      "      \"polygon\": \"http://environment.data.gov.uk/flood-monitoring/id/floodAreas/122WAF949/polygon\",\n",
      "      \"quickDialNumber\": \"134705\",\n",
      "      \"riverOrSea\": \"River Derwent, Sea Cut, River Hertford, Burniston Beck\"\n",
      "    },\n",
      "    {\n",
      "      \"@id\": \"http://environment.data.gov.uk/flood-monitoring/id/floodAreas/122FWC048\",\n",
      "      \"county\": \"North Yorkshire\",\n",
      "      \"description\": \"Properties on Foreshore Road from the roundabout to West Pier\",\n",
      "      \"eaAreaName\": \"Yorkshire\",\n",
      "      \"floodWatchArea\": \"http://environment.data.gov.uk/flood-monitoring/id/floodAreas/122WAC953\",\n",
      "      \"fwdCode\": \"122FWC048\",\n",
      "      \"label\": \"North Sea at Scarborough - Foreshore Road\",\n",
      "      \"lat\": 54.28219,\n",
      "      \"long\": -0.39603,\n",
      "      \"notation\": \"122FWC048\",\n",
      "      \"polygon\": \"http://environment.data.gov.uk/flood-monitoring/id/floodAreas/122FWC048/polygon\",\n",
      "      \"quickDialNumber\": \"303001\",\n",
      "      \"riverOrSea\": \"North Sea\"\n",
      "    },\n",
      "    {\n",
      "      \"@id\": \"http://environment.data.gov.uk/flood-monitoring/id/floodAreas/122FWC050\",\n",
      "      \"county\": \"North Yorkshire\",\n",
      "      \"description\": \"Scarborough Spa and Bandstand at Cleveland Way\",\n",
      "      \"eaAreaName\": \"Yorkshire\",\n",
      "      \"floodWatchArea\": \"http://environment.data.gov.uk/flood-monitoring/id/floodAreas/122WAC953\",\n",
      "      \"fwdCode\": \"122FWC050\",\n",
      "      \"label\": \"North Sea at Scarborough - Spa Complex\",\n",
      "      \"lat\": 54.27581,\n",
      "      \"long\": -0.3973,\n",
      "      \"notation\": \"122FWC050\",\n",
      "      \"polygon\": \"http://environment.data.gov.uk/flood-monitoring/id/floodAreas/122FWC050/polygon\",\n",
      "      \"quickDialNumber\": \"303002\",\n",
      "      \"riverOrSea\": \"North Sea\"\n",
      "    }\n",
      "  ]\n",
      "}\n"
     ]
    }
   ],
   "source": [
    "r = requests.get('https://environment.data.gov.uk/flood-monitoring/id/floodAreas?lat=54.28219&long=-0.38364&dist=1')\n",
    "json_object = json.loads(r.content)\n",
    "json_formatted_str = json.dumps(json_object, indent=2)\n",
    "print(json_formatted_str)"
   ]
  },
  {
   "cell_type": "code",
   "execution_count": 80,
   "id": "a2d02d92",
   "metadata": {
    "scrolled": true
   },
   "outputs": [
    {
     "name": "stdout",
     "output_type": "stream",
     "text": [
      "['http://environment.data.gov.uk/flood-monitoring/id/floodAreas/122FWC045/polygon', 'http://environment.data.gov.uk/flood-monitoring/id/floodAreas/122FWC045/polygon', 'http://environment.data.gov.uk/flood-monitoring/id/floodAreas/122FWC045/polygon', 'http://environment.data.gov.uk/flood-monitoring/id/floodAreas/122FWC045/polygon', 'http://environment.data.gov.uk/flood-monitoring/id/floodAreas/122FWC045/polygon']\n"
     ]
    }
   ],
   "source": [
    "flood_HTTP = []\n",
    "for a in range(0,len(json_object[\"items\"])):\n",
    "    flood_HTTP.insert(a,json_object[\"items\"][0][\"polygon\"])\n",
    "print(flood_HTTP)"
   ]
  },
  {
   "cell_type": "code",
   "execution_count": 82,
   "id": "97d27587",
   "metadata": {},
   "outputs": [
    {
     "name": "stdout",
     "output_type": "stream",
     "text": [
      "[[[[-0.39393, 54.28388], [-0.3929, 54.28425], [-0.39161, 54.28437], [-0.38729, 54.28431], [-0.38682, 54.2842], [-0.38652, 54.28399], [-0.38642, 54.28352], [-0.387, 54.28367], [-0.38734, 54.2835], [-0.38759, 54.28354], [-0.38741, 54.28376], [-0.38802, 54.28391], [-0.38903, 54.2838], [-0.39016, 54.2838], [-0.39201, 54.28389], [-0.39245, 54.28373], [-0.39098, 54.28275], [-0.38945, 54.28249], [-0.3896, 54.28223], [-0.38984, 54.28171], [-0.39016, 54.28177], [-0.38997, 54.28217], [-0.38987, 54.28219], [-0.38985, 54.28227], [-0.39117, 54.28249], [-0.39159, 54.28242], [-0.39277, 54.2833], [-0.393, 54.28323], [-0.39342, 54.28353], [-0.39393, 54.28388]]], [[[-0.39393, 54.28388], [-0.3929, 54.28425], [-0.39161, 54.28437], [-0.38729, 54.28431], [-0.38682, 54.2842], [-0.38652, 54.28399], [-0.38642, 54.28352], [-0.387, 54.28367], [-0.38734, 54.2835], [-0.38759, 54.28354], [-0.38741, 54.28376], [-0.38802, 54.28391], [-0.38903, 54.2838], [-0.39016, 54.2838], [-0.39201, 54.28389], [-0.39245, 54.28373], [-0.39098, 54.28275], [-0.38945, 54.28249], [-0.3896, 54.28223], [-0.38984, 54.28171], [-0.39016, 54.28177], [-0.38997, 54.28217], [-0.38987, 54.28219], [-0.38985, 54.28227], [-0.39117, 54.28249], [-0.39159, 54.28242], [-0.39277, 54.2833], [-0.393, 54.28323], [-0.39342, 54.28353], [-0.39393, 54.28388]]], [[[-0.39393, 54.28388], [-0.3929, 54.28425], [-0.39161, 54.28437], [-0.38729, 54.28431], [-0.38682, 54.2842], [-0.38652, 54.28399], [-0.38642, 54.28352], [-0.387, 54.28367], [-0.38734, 54.2835], [-0.38759, 54.28354], [-0.38741, 54.28376], [-0.38802, 54.28391], [-0.38903, 54.2838], [-0.39016, 54.2838], [-0.39201, 54.28389], [-0.39245, 54.28373], [-0.39098, 54.28275], [-0.38945, 54.28249], [-0.3896, 54.28223], [-0.38984, 54.28171], [-0.39016, 54.28177], [-0.38997, 54.28217], [-0.38987, 54.28219], [-0.38985, 54.28227], [-0.39117, 54.28249], [-0.39159, 54.28242], [-0.39277, 54.2833], [-0.393, 54.28323], [-0.39342, 54.28353], [-0.39393, 54.28388]]], [[[-0.39393, 54.28388], [-0.3929, 54.28425], [-0.39161, 54.28437], [-0.38729, 54.28431], [-0.38682, 54.2842], [-0.38652, 54.28399], [-0.38642, 54.28352], [-0.387, 54.28367], [-0.38734, 54.2835], [-0.38759, 54.28354], [-0.38741, 54.28376], [-0.38802, 54.28391], [-0.38903, 54.2838], [-0.39016, 54.2838], [-0.39201, 54.28389], [-0.39245, 54.28373], [-0.39098, 54.28275], [-0.38945, 54.28249], [-0.3896, 54.28223], [-0.38984, 54.28171], [-0.39016, 54.28177], [-0.38997, 54.28217], [-0.38987, 54.28219], [-0.38985, 54.28227], [-0.39117, 54.28249], [-0.39159, 54.28242], [-0.39277, 54.2833], [-0.393, 54.28323], [-0.39342, 54.28353], [-0.39393, 54.28388]]], [[[-0.39393, 54.28388], [-0.3929, 54.28425], [-0.39161, 54.28437], [-0.38729, 54.28431], [-0.38682, 54.2842], [-0.38652, 54.28399], [-0.38642, 54.28352], [-0.387, 54.28367], [-0.38734, 54.2835], [-0.38759, 54.28354], [-0.38741, 54.28376], [-0.38802, 54.28391], [-0.38903, 54.2838], [-0.39016, 54.2838], [-0.39201, 54.28389], [-0.39245, 54.28373], [-0.39098, 54.28275], [-0.38945, 54.28249], [-0.3896, 54.28223], [-0.38984, 54.28171], [-0.39016, 54.28177], [-0.38997, 54.28217], [-0.38987, 54.28219], [-0.38985, 54.28227], [-0.39117, 54.28249], [-0.39159, 54.28242], [-0.39277, 54.2833], [-0.393, 54.28323], [-0.39342, 54.28353], [-0.39393, 54.28388]]]]\n"
     ]
    }
   ],
   "source": [
    "coordinates = []\n",
    "for b in range(0,len(json_object[\"items\"])):\n",
    "    r2 = requests.get(flood_HTTP[b])\n",
    "    json_object2 = json.loads(r2.content)\n",
    "    json_formatted_str2 = json.dumps(json_object2, indent=2)\n",
    "    #print(json_formatted_str2)\n",
    "    coordinates.insert(b,json_object2[\"features\"][0][\"geometry\"][\"coordinates\"])\n",
    "print(coordinates)"
   ]
  },
  {
   "cell_type": "code",
   "execution_count": null,
   "id": "4e0537b0",
   "metadata": {},
   "outputs": [],
   "source": []
  }
 ],
 "metadata": {
  "kernelspec": {
   "display_name": "Python 3",
   "language": "python",
   "name": "python3"
  },
  "language_info": {
   "codemirror_mode": {
    "name": "ipython",
    "version": 3
   },
   "file_extension": ".py",
   "mimetype": "text/x-python",
   "name": "python",
   "nbconvert_exporter": "python",
   "pygments_lexer": "ipython3",
   "version": "3.6.13"
  }
 },
 "nbformat": 4,
 "nbformat_minor": 5
}
