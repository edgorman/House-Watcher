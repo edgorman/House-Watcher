{
 "cells": [
  {
   "cell_type": "markdown",
   "id": "34f67038",
   "metadata": {},
   "source": [
    "# Police API Tests"
   ]
  },
  {
   "cell_type": "code",
   "execution_count": 1,
   "id": "ae2ecf14",
   "metadata": {},
   "outputs": [],
   "source": [
    "import sys"
   ]
  },
  {
   "cell_type": "code",
   "execution_count": 2,
   "id": "e0109056",
   "metadata": {},
   "outputs": [],
   "source": [
    "import requests\n",
    "import json"
   ]
  },
  {
   "cell_type": "code",
   "execution_count": 3,
   "id": "aa8c3199",
   "metadata": {},
   "outputs": [],
   "source": [
    "sys.path.append('../property-fundamentals')\n",
    "from postcodes_api.postcode_api import API"
   ]
  },
  {
   "cell_type": "code",
   "execution_count": 4,
   "id": "0e8dd288",
   "metadata": {},
   "outputs": [],
   "source": [
    "postcodes_api = API()"
   ]
  },
  {
   "cell_type": "code",
   "execution_count": 36,
   "id": "75d50220",
   "metadata": {},
   "outputs": [
    {
     "name": "stdout",
     "output_type": "stream",
     "text": [
      "{\n",
      "  \"status\": 200,\n",
      "  \"result\": null\n",
      "}\n"
     ]
    }
   ],
   "source": [
    "headers = {'radius': '2000'}\n",
    "r = requests.get('https://api.postcodes.io/postcodes?lon=-1.400914000&lat=50.90874200', headers=headers)\n",
    "json_object = json.loads(r.content)\n",
    "json_formatted_str = json.dumps(json_object, indent=2)\n",
    "print(json_formatted_str)"
   ]
  },
  {
   "cell_type": "code",
   "execution_count": 6,
   "id": "39baaa35",
   "metadata": {},
   "outputs": [
    {
     "ename": "TypeError",
     "evalue": "'NoneType' object is not subscriptable",
     "output_type": "error",
     "traceback": [
      "\u001b[1;31m---------------------------------------------------------------------------\u001b[0m",
      "\u001b[1;31mTypeError\u001b[0m                                 Traceback (most recent call last)",
      "\u001b[1;32m<ipython-input-6-4ff770499d97>\u001b[0m in \u001b[0;36m<module>\u001b[1;34m\u001b[0m\n\u001b[1;32m----> 1\u001b[1;33m \u001b[0mprint\u001b[0m\u001b[1;33m(\u001b[0m\u001b[0mjson_object\u001b[0m\u001b[1;33m[\u001b[0m\u001b[1;34m\"result\"\u001b[0m\u001b[1;33m]\u001b[0m\u001b[1;33m[\u001b[0m\u001b[1;36m0\u001b[0m\u001b[1;33m]\u001b[0m\u001b[1;33m[\u001b[0m\u001b[1;34m\"postcode\"\u001b[0m\u001b[1;33m]\u001b[0m\u001b[1;33m)\u001b[0m\u001b[1;33m\u001b[0m\u001b[1;33m\u001b[0m\u001b[0m\n\u001b[0m",
      "\u001b[1;31mTypeError\u001b[0m: 'NoneType' object is not subscriptable"
     ]
    }
   ],
   "source": [
    "print(json_object[\"result\"][0][\"postcode\"])"
   ]
  },
  {
   "cell_type": "code",
   "execution_count": 7,
   "id": "9436c1af",
   "metadata": {},
   "outputs": [
    {
     "name": "stdout",
     "output_type": "stream",
     "text": [
      "None\n"
     ]
    }
   ],
   "source": [
    "further_education_postcode = postcodes_api.get_postcode('-1.400914','50.908742')\n",
    "print(further_education_postcode)"
   ]
  },
  {
   "cell_type": "code",
   "execution_count": null,
   "id": "851f42f6",
   "metadata": {},
   "outputs": [],
   "source": []
  }
 ],
 "metadata": {
  "kernelspec": {
   "display_name": "Python 3",
   "language": "python",
   "name": "python3"
  },
  "language_info": {
   "codemirror_mode": {
    "name": "ipython",
    "version": 3
   },
   "file_extension": ".py",
   "mimetype": "text/x-python",
   "name": "python",
   "nbconvert_exporter": "python",
   "pygments_lexer": "ipython3",
   "version": "3.6.13"
  }
 },
 "nbformat": 4,
 "nbformat_minor": 5
}
