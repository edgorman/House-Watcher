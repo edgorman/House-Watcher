{
 "cells": [
  {
   "cell_type": "markdown",
   "id": "34f67038",
   "metadata": {},
   "source": [
    "# Police API Tests"
   ]
  },
  {
   "cell_type": "code",
   "execution_count": 1,
   "id": "ae2ecf14",
   "metadata": {},
   "outputs": [],
   "source": [
    "import sys"
   ]
  },
  {
   "cell_type": "code",
   "execution_count": 2,
   "id": "e0109056",
   "metadata": {},
   "outputs": [],
   "source": [
    "import requests\n",
    "import json"
   ]
  },
  {
   "cell_type": "code",
   "execution_count": 3,
   "id": "aa8c3199",
   "metadata": {},
   "outputs": [],
   "source": [
    "sys.path.append('../property-fundamentals')\n",
    "from postcodes_api.postcode_api import API"
   ]
  },
  {
   "cell_type": "code",
   "execution_count": 4,
   "id": "0e8dd288",
   "metadata": {},
   "outputs": [],
   "source": [
    "postcodes_api = API()"
   ]
  },
  {
   "cell_type": "code",
   "execution_count": 5,
   "id": "75d50220",
   "metadata": {},
   "outputs": [
    {
     "name": "stdout",
     "output_type": "stream",
     "text": [
      "{\n",
      "  \"status\": 200,\n",
      "  \"result\": [\n",
      "    {\n",
      "      \"postcode\": \"GL3 3UJ\",\n",
      "      \"quality\": 1,\n",
      "      \"eastings\": 387649,\n",
      "      \"northings\": 216791,\n",
      "      \"country\": \"England\",\n",
      "      \"nhs_ha\": \"South West\",\n",
      "      \"longitude\": -2.18071,\n",
      "      \"latitude\": 51.849575,\n",
      "      \"european_electoral_region\": \"South West\",\n",
      "      \"primary_care_trust\": \"Gloucestershire\",\n",
      "      \"region\": \"South West\",\n",
      "      \"lsoa\": \"Tewkesbury 009E\",\n",
      "      \"msoa\": \"Tewkesbury 009\",\n",
      "      \"incode\": \"3UJ\",\n",
      "      \"outcode\": \"GL3\",\n",
      "      \"parliamentary_constituency\": \"Tewkesbury\",\n",
      "      \"admin_district\": \"Tewkesbury\",\n",
      "      \"parish\": \"Hucclecote\",\n",
      "      \"admin_county\": \"Gloucestershire\",\n",
      "      \"admin_ward\": \"Churchdown Brookfield with Hucclecote\",\n",
      "      \"ced\": \"Brockworth\",\n",
      "      \"ccg\": \"NHS Gloucestershire\",\n",
      "      \"nuts\": \"Gloucestershire CC\",\n",
      "      \"codes\": {\n",
      "        \"admin_district\": \"E07000083\",\n",
      "        \"admin_county\": \"E10000013\",\n",
      "        \"admin_ward\": \"E05012067\",\n",
      "        \"parish\": \"E04004407\",\n",
      "        \"parliamentary_constituency\": \"E14000990\",\n",
      "        \"ccg\": \"E38000062\",\n",
      "        \"ccg_id\": \"11M\",\n",
      "        \"ced\": \"E58000482\",\n",
      "        \"nuts\": \"TLK13\",\n",
      "        \"lsoa\": \"E01022446\",\n",
      "        \"msoa\": \"E02004674\",\n",
      "        \"lau2\": \"E07000083\"\n",
      "      },\n",
      "      \"distance\": 21.69511161\n",
      "    },\n",
      "    {\n",
      "      \"postcode\": \"GL3 3UL\",\n",
      "      \"quality\": 1,\n",
      "      \"eastings\": 387628,\n",
      "      \"northings\": 216885,\n",
      "      \"country\": \"England\",\n",
      "      \"nhs_ha\": \"South West\",\n",
      "      \"longitude\": -2.181019,\n",
      "      \"latitude\": 51.85042,\n",
      "      \"european_electoral_region\": \"South West\",\n",
      "      \"primary_care_trust\": \"Gloucestershire\",\n",
      "      \"region\": \"South West\",\n",
      "      \"lsoa\": \"Tewkesbury 009E\",\n",
      "      \"msoa\": \"Tewkesbury 009\",\n",
      "      \"incode\": \"3UL\",\n",
      "      \"outcode\": \"GL3\",\n",
      "      \"parliamentary_constituency\": \"Tewkesbury\",\n",
      "      \"admin_district\": \"Tewkesbury\",\n",
      "      \"parish\": \"Hucclecote\",\n",
      "      \"admin_county\": \"Gloucestershire\",\n",
      "      \"admin_ward\": \"Churchdown Brookfield with Hucclecote\",\n",
      "      \"ced\": \"Brockworth\",\n",
      "      \"ccg\": \"NHS Gloucestershire\",\n",
      "      \"nuts\": \"Gloucestershire CC\",\n",
      "      \"codes\": {\n",
      "        \"admin_district\": \"E07000083\",\n",
      "        \"admin_county\": \"E10000013\",\n",
      "        \"admin_ward\": \"E05012067\",\n",
      "        \"parish\": \"E04004407\",\n",
      "        \"parliamentary_constituency\": \"E14000990\",\n",
      "        \"ccg\": \"E38000062\",\n",
      "        \"ccg_id\": \"11M\",\n",
      "        \"ced\": \"E58000482\",\n",
      "        \"nuts\": \"TLK13\",\n",
      "        \"lsoa\": \"E01022446\",\n",
      "        \"msoa\": \"E02004674\",\n",
      "        \"lau2\": \"E07000083\"\n",
      "      },\n",
      "      \"distance\": 76.94755158\n",
      "    },\n",
      "    {\n",
      "      \"postcode\": \"GL3 3UH\",\n",
      "      \"quality\": 1,\n",
      "      \"eastings\": 387596,\n",
      "      \"northings\": 216750,\n",
      "      \"country\": \"England\",\n",
      "      \"nhs_ha\": \"South West\",\n",
      "      \"longitude\": -2.181478,\n",
      "      \"latitude\": 51.849205,\n",
      "      \"european_electoral_region\": \"South West\",\n",
      "      \"primary_care_trust\": \"Gloucestershire\",\n",
      "      \"region\": \"South West\",\n",
      "      \"lsoa\": \"Tewkesbury 009E\",\n",
      "      \"msoa\": \"Tewkesbury 009\",\n",
      "      \"incode\": \"3UH\",\n",
      "      \"outcode\": \"GL3\",\n",
      "      \"parliamentary_constituency\": \"Tewkesbury\",\n",
      "      \"admin_district\": \"Tewkesbury\",\n",
      "      \"parish\": \"Hucclecote\",\n",
      "      \"admin_county\": \"Gloucestershire\",\n",
      "      \"admin_ward\": \"Churchdown Brookfield with Hucclecote\",\n",
      "      \"ced\": \"Brockworth\",\n",
      "      \"ccg\": \"NHS Gloucestershire\",\n",
      "      \"nuts\": \"Gloucestershire CC\",\n",
      "      \"codes\": {\n",
      "        \"admin_district\": \"E07000083\",\n",
      "        \"admin_county\": \"E10000013\",\n",
      "        \"admin_ward\": \"E05012067\",\n",
      "        \"parish\": \"E04004407\",\n",
      "        \"parliamentary_constituency\": \"E14000990\",\n",
      "        \"ccg\": \"E38000062\",\n",
      "        \"ccg_id\": \"11M\",\n",
      "        \"ced\": \"E58000482\",\n",
      "        \"nuts\": \"TLK13\",\n",
      "        \"lsoa\": \"E01022446\",\n",
      "        \"msoa\": \"E02004674\",\n",
      "        \"lau2\": \"E07000083\"\n",
      "      },\n",
      "      \"distance\": 84.50584168\n",
      "    },\n",
      "    {\n",
      "      \"postcode\": \"GL3 3UD\",\n",
      "      \"quality\": 1,\n",
      "      \"eastings\": 387745,\n",
      "      \"northings\": 216832,\n",
      "      \"country\": \"England\",\n",
      "      \"nhs_ha\": \"South West\",\n",
      "      \"longitude\": -2.179318,\n",
      "      \"latitude\": 51.849946,\n",
      "      \"european_electoral_region\": \"South West\",\n",
      "      \"primary_care_trust\": \"Gloucestershire\",\n",
      "      \"region\": \"South West\",\n",
      "      \"lsoa\": \"Tewkesbury 009E\",\n",
      "      \"msoa\": \"Tewkesbury 009\",\n",
      "      \"incode\": \"3UD\",\n",
      "      \"outcode\": \"GL3\",\n",
      "      \"parliamentary_constituency\": \"Tewkesbury\",\n",
      "      \"admin_district\": \"Tewkesbury\",\n",
      "      \"parish\": \"Hucclecote\",\n",
      "      \"admin_county\": \"Gloucestershire\",\n",
      "      \"admin_ward\": \"Churchdown Brookfield with Hucclecote\",\n",
      "      \"ced\": \"Brockworth\",\n",
      "      \"ccg\": \"NHS Gloucestershire\",\n",
      "      \"nuts\": \"Gloucestershire CC\",\n",
      "      \"codes\": {\n",
      "        \"admin_district\": \"E07000083\",\n",
      "        \"admin_county\": \"E10000013\",\n",
      "        \"admin_ward\": \"E05012067\",\n",
      "        \"parish\": \"E04004407\",\n",
      "        \"parliamentary_constituency\": \"E14000990\",\n",
      "        \"ccg\": \"E38000062\",\n",
      "        \"ccg_id\": \"11M\",\n",
      "        \"ced\": \"E58000482\",\n",
      "        \"nuts\": \"TLK13\",\n",
      "        \"lsoa\": \"E01022446\",\n",
      "        \"msoa\": \"E02004674\",\n",
      "        \"lau2\": \"E07000083\"\n",
      "      },\n",
      "      \"distance\": 94.10148677\n",
      "    }\n",
      "  ]\n",
      "}\n"
     ]
    }
   ],
   "source": [
    "r = requests.get('https://api.postcodes.io/postcodes?lon=-2.1806525838773503&lat=51.84976671709498')\n",
    "json_object = json.loads(r.content)\n",
    "json_formatted_str = json.dumps(json_object, indent=2)\n",
    "print(json_formatted_str)"
   ]
  },
  {
   "cell_type": "code",
   "execution_count": 6,
   "id": "39baaa35",
   "metadata": {},
   "outputs": [
    {
     "name": "stdout",
     "output_type": "stream",
     "text": [
      "GL3 3UJ\n"
     ]
    }
   ],
   "source": [
    "print(json_object[\"result\"][0][\"postcode\"])"
   ]
  },
  {
   "cell_type": "code",
   "execution_count": 7,
   "id": "9436c1af",
   "metadata": {},
   "outputs": [
    {
     "name": "stdout",
     "output_type": "stream",
     "text": [
      "GL3 3UJ\n"
     ]
    }
   ],
   "source": [
    "further_education_postcode = postcodes_api.get_postcode('-2.1806525838773503','51.84976671709498')\n",
    "print(further_education_postcode)"
   ]
  },
  {
   "cell_type": "code",
   "execution_count": null,
   "id": "851f42f6",
   "metadata": {},
   "outputs": [],
   "source": []
  }
 ],
 "metadata": {
  "kernelspec": {
   "display_name": "Python 3",
   "language": "python",
   "name": "python3"
  },
  "language_info": {
   "codemirror_mode": {
    "name": "ipython",
    "version": 3
   },
   "file_extension": ".py",
   "mimetype": "text/x-python",
   "name": "python",
   "nbconvert_exporter": "python",
   "pygments_lexer": "ipython3",
   "version": "3.6.13"
  }
 },
 "nbformat": 4,
 "nbformat_minor": 5
}
